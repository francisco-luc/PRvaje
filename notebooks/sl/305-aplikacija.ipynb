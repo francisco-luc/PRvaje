{
 "cells": [
  {
   "cell_type": "markdown",
   "metadata": {
    "tags": [
     "sl"
    ]
   },
   "source": [
    "## Implementacija priporočilnega sistema\n",
    "\n",
    "Podatkovno rudarjenje, naloga, `<VPIŠI DATUM ODDAJE>`  \n",
    "**`<VPIŠI Ime in priimek>`**"
   ]
  },
  {
   "cell_type": "markdown",
   "metadata": {
    "tags": [
     "sl"
    ]
   },
   "source": [
    "Aplikacija naj združuje vse pridobljeno znanje. Implementirana naj bo s poljubno tehnologijo in omogočala prijavo novega uporabnika, ocenjevanje filmov ter priporočanje še ne ocenjenih filmov."
   ]
  },
  {
   "cell_type": "markdown",
   "metadata": {
    "tags": [
     "sl"
    ]
   },
   "source": [
    "### Podatki\n",
    "\n",
    "Opis podatkovne zbirke MovieLens ostaja enak prvi nalogi."
   ]
  },
  {
   "cell_type": "markdown",
   "metadata": {
    "tags": [
     "sl"
    ]
   },
   "source": [
    "### Vprašanja\n",
    "\n",
    "#### 1.  Prototip (100%)\n",
    "\n",
    "Implementirajte prototip aplikacije priporočilnega sistema. Pri tem lahko uporabite poljubne metode podatkovnega rudarjenja. Povsod, kjer implementacija funkcijskih zahteve ni natančno določena, sami sprejmite odločitve, potrebne za implementacijo. \n",
    "\n",
    "Aplikacija naj omogoča naslednje funkcionalnosti:\n",
    "\n",
    "* Uporabniški vmesnik. Po lastni izbiri načrtujte preprost uporabniški vmesnik. Vmesnik je lahko ukazna vrstica, grafični vmesnik ali spletni vmesnik. Sistem naj bo možno enostavno zagnati oz. naj bo dostopen za uporabo. Vmesnik omogoča komunikacijo med uporabnikom in priporočilnim sistemom.\n",
    "\n",
    "* Prijava novega uporabnika. Sistem naj omogoča dodajanje novih uporabnikov in vnos ocen preko uporabniškega vmesnika. Uporabnike lahko identificirate npr. z uporabniškimi imeni, številkami, ipd. Vnesene ocene se ob izhodu iz sistema shranijo in so upoštevane pri ponovnem zagonu. Uporabnik filme, ki so v podatkih, oceni z ocenami med 1 (nezadostno) in 5 (odlično).\n",
    "\n",
    "* Na zahtevo uporabnika generirajte spisek petih uporabniku najbolj ustreznih filmov, ki jih uporabnik še ni ocenil. Metoda za priporočanje filmov je lahko izbrana iz množice metod, ki smo jih spoznali v okviru predmeta (metode nadzorovanega modeliranja, matrična faktorizacija, ...) ali drugih. V poročilu opišite, katero metodo uporabljate. \n",
    "\n",
    "#### Bonus vprašanje (20%)\n",
    "V aplikacijo dodajte različne vizualizacije trenutnih podatkov, ki jih je mogoče zagnati iz uporabniškega vmesnika. To lahko vključuje gruče uporabnikov, trende različnih žanrov skozi čas, porazdelitve (povprečnih ocen), trenutno najpopularnejše filme, ipd.\n",
    "\n",
    "\n",
    "V poročilu opišite primere za uporabo vaše aplikacije - slike zaslona s spremnim besedilom oz. ukaze in rezultate, če je vmesnik ukazna vrstica. Pri tem prikažite najmanj en primer za vsako funkcionalnost, ki ste jo implementirali."
   ]
  },
  {
   "cell_type": "markdown",
   "metadata": {
    "tags": [
     "sl"
    ]
   },
   "source": [
    "### Rezultati\n",
    "\n",
    "Delovanje aplikacije na kratko predstavite v poročilu.\n",
    "\n",
    "Rezultati naloge so:\n",
    "* poročilo, ki ga sestavljajo kratka navodila za uporabo aplikacije. Oddajte datoteko `.tex` in `.pdf` poročila,\n",
    "* izvorna koda programov (datoteke .ipynb, .py, ...)."
   ]
  }
 ],
 "metadata": {
  "kernelspec": {
   "display_name": "Python 3",
   "language": "python",
   "name": "python3"
  },
  "language_info": {
   "codemirror_mode": {
    "name": "ipython",
    "version": 3
   },
   "file_extension": ".py",
   "mimetype": "text/x-python",
   "name": "python",
   "nbconvert_exporter": "python",
   "pygments_lexer": "ipython3",
   "version": "3.8.6"
  },
  "latex_envs": {
   "LaTeX_envs_menu_present": true,
   "autoclose": false,
   "autocomplete": true,
   "bibliofile": "biblio.bib",
   "cite_by": "apalike",
   "current_citInitial": 1,
   "eqLabelWithNumbers": true,
   "eqNumInitial": 1,
   "hotkeys": {
    "equation": "Ctrl-E",
    "itemize": "Ctrl-I"
   },
   "labels_anchors": false,
   "latex_user_defs": false,
   "report_style_numbering": false,
   "user_envs_cfg": false
  },
  "nbTranslate": {
   "displayLangs": [
    "*"
   ],
   "hotkey": "alt-t",
   "langInMainMenu": true,
   "sourceLang": "sl",
   "targetLang": "en",
   "useGoogleTranslate": true
  }
 },
 "nbformat": 4,
 "nbformat_minor": 2
}
