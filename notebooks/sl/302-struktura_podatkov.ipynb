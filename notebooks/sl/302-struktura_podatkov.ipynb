{
 "cells": [
  {
   "cell_type": "markdown",
   "metadata": {
    "tags": [
     "sl"
    ]
   },
   "source": [
    "## Iskanje strukture v podatkih\n",
    "\n",
    "Podatkovno rudarjenje, naloga, `<VPIŠI DATUM ODDAJE>`  \n",
    "**`<VPIŠI Ime in priimek>`**"
   ]
  },
  {
   "cell_type": "markdown",
   "metadata": {
    "tags": [
     "sl"
    ]
   },
   "source": [
    "Z modeliranjem skušamo poiskati strukturo v podatkih. Z metodami nenadzorovanga modeliranja skušamo poiskati skupine podobnih podatkov oz. skupine primerov.\n",
    "\n",
    "V nalogi boste uporabili modeliranje verjetnostnih porazdelitev za iskanje osamelcev ter metode za iskanje skupin podobnih primerov (gručenje)."
   ]
  },
  {
   "cell_type": "markdown",
   "metadata": {
    "tags": [
     "sl"
    ]
   },
   "source": [
    "### Podatki\n",
    "\n",
    "Opis podatkovne zbirke MovieLens ostaja enak prvi nalogi."
   ]
  },
  {
   "cell_type": "markdown",
   "metadata": {
    "tags": [
     "sl"
    ]
   },
   "source": [
    "### Vprašanja\n",
    "\n",
    "Z uporabo principov, ki ste jih spoznali na vajah in predavanjih, odgovorite na\n",
    "spodnja vprašanja. Pri vsakem vprašanju dobro premislite, na kakšen način boste\n",
    "najbolje podali, prikazali oz. utemeljili odgovor. Bistven del so odgovori na\n",
    "vprašanja in ne toliko implementacija vaše rešitve."
   ]
  },
  {
   "cell_type": "markdown",
   "metadata": {
    "tags": [
     "sl"
    ]
   },
   "source": [
    "#### 1. Iskanje osamelcev (50%) \n",
    "O ocenah katerih filmov so si uporabniki najmanj enotni? Povedano drugače, za katere filme so pripadajoče ocene najbolj razpršene?\n",
    "\n",
    "Formuliraj problem kot modeliranje verjetnostne porazdelitve. Premisli o naslednjih vprašanjih, naredi ustrezne poizkuse in odgovori."
   ]
  },
  {
   "cell_type": "code",
   "execution_count": 1,
   "metadata": {},
   "outputs": [],
   "source": [
    "# kodo lahko razdelite v več celic"
   ]
  },
  {
   "cell_type": "markdown",
   "metadata": {
    "tags": [
     "sl"
    ]
   },
   "source": [
    "Odgovor: **odgovor lahko zapišete v več celic**"
   ]
  },
  {
   "cell_type": "markdown",
   "metadata": {
    "tags": [
     "sl"
    ]
   },
   "source": [
    "#### 1.1. vprašanje:\n",
    "\n",
    "Katera je ustrezna naključna spremenljivka (količina) v podatkih, ki odgovarja na vprašanje?        "
   ]
  },
  {
   "cell_type": "code",
   "execution_count": 2,
   "metadata": {},
   "outputs": [],
   "source": [
    "# kodo lahko razdelite v več celic"
   ]
  },
  {
   "cell_type": "markdown",
   "metadata": {
    "tags": [
     "sl"
    ]
   },
   "source": [
    "Odgovor: **odgovor lahko zapišete v več celic**"
   ]
  },
  {
   "cell_type": "markdown",
   "metadata": {
    "tags": [
     "sl"
    ]
   },
   "source": [
    "#### 1.2. vprašanje:\n",
    "Nariši njeno porazdelitev, npr., s pomočjo histograma."
   ]
  },
  {
   "cell_type": "code",
   "execution_count": 3,
   "metadata": {},
   "outputs": [],
   "source": [
    "# kodo lahko razdelite v več celic"
   ]
  },
  {
   "cell_type": "markdown",
   "metadata": {
    "tags": [
     "sl"
    ]
   },
   "source": [
    "Odgovor: **odgovor lahko zapišete v več celic**"
   ]
  },
  {
   "cell_type": "markdown",
   "metadata": {
    "tags": [
     "sl"
    ]
   },
   "source": [
    "#### 1.3. vprašanje:\n",
    "\n",
    "Ali porazdelitev spominja na kakšno znano porazdelitev? Ali je porazdelitev morda normalna ali katera druga? "
   ]
  },
  {
   "cell_type": "code",
   "execution_count": 4,
   "metadata": {},
   "outputs": [],
   "source": [
    "# kodo lahko razdelite v več celic"
   ]
  },
  {
   "cell_type": "markdown",
   "metadata": {
    "tags": [
     "sl"
    ]
   },
   "source": [
    "Odgovor: **odgovor lahko zapišete v več celic**"
   ]
  },
  {
   "cell_type": "markdown",
   "metadata": {
    "tags": [
     "sl"
    ]
   },
   "source": [
    "#### 1.4. vprašanje:\n",
    "\n",
    "Oceni parametre te porazdelitve s pomočjo postopkov, ki smo jih spoznali na vajah.  Izmed porazdelitev, ki smo jih spoznali na vajah, izberi tisto, ki se podatkom najbolj prilega.        "
   ]
  },
  {
   "cell_type": "code",
   "execution_count": 5,
   "metadata": {},
   "outputs": [],
   "source": [
    "# kodo lahko razdelite v več celic"
   ]
  },
  {
   "cell_type": "markdown",
   "metadata": {
    "tags": [
     "sl"
    ]
   },
   "source": [
    "Odgovor: **odgovor lahko zapišete v več celic**"
   ]
  },
  {
   "cell_type": "markdown",
   "metadata": {
    "tags": [
     "sl"
    ]
   },
   "source": [
    "#### 1.5. vprašanje:\n",
    "\n",
    "Izpiši filme z vrednostjo naključne spremenljivke, ki spada v zgornjih 5% statistično značilnih primerov. "
   ]
  },
  {
   "cell_type": "code",
   "execution_count": 6,
   "metadata": {},
   "outputs": [],
   "source": [
    "# kodo lahko razdelite v več celic"
   ]
  },
  {
   "cell_type": "markdown",
   "metadata": {
    "tags": [
     "sl"
    ]
   },
   "source": [
    "Odgovor: **odgovor lahko zapišete v več celic**"
   ]
  },
  {
   "cell_type": "markdown",
   "metadata": {
    "tags": [
     "sl"
    ]
   },
   "source": [
    "#### 2. Gručenje filmov (50%)\n",
    "\n",
    "Priporočilni sistemi pogosto odkrivajo skupine predmetov (v našem primeru filme), za katere velja visoka medsebojna podobnost.\n",
    "\n",
    "Poiščite 100 najbolj gledanih filmov. Ali med njimi obstajajo skupine?\n",
    "Uporabite ustrezen algoritem za gručenje. Na film lahko gledamo kot vektor, kjer je  \n",
    "število komponent enako številu uporabnikov. \n",
    "\n",
    "Vektorji vsebujejo tudi *neznane vrednosti*.\n",
    "Primer vektorjev za deset filmov prikazuje spodnja tabela.\n",
    "\n",
    "Algoritme gručenja lahko izvajamo v izvornem prostoru (koordinatni sistem filmi-uporabniki) ali pa filme primerjamo z merami podobnosti, ki smo jih spoznali na vajah. \n",
    "Premisli, kateri način je primernejši glede na obliko podatkov."
   ]
  },
  {
   "cell_type": "markdown",
   "metadata": {},
   "source": [
    "| x          |Movie                                      | $u_0$ |$u_1$ | $u_2$ | $\\cdots$ |\n",
    "|------------|-------------------------------------------|:-----:|:----:|:------|:--------:|\n",
    "|$\\vec{x_0}$ | Fight Club (1999)                         | ?     | ?    | ?     | $\\cdots$ |\n",
    "|$\\vec{x_1}$ | Twelve Monkeys (a.k.a. 12 Monkeys) (1995) | ?     | ?    | 2.5   | $\\cdots$ |\n",
    "|$\\vec{x_2}$ | Independence Day (a.k.a. ID4) (1996)      | ?     | ?    | ?     | $\\cdots$ |\n",
    "|$\\vec{x_3}$ | Dances with  Wolves (1990)                | 4.0   | ?    | ?     | $\\cdots$ |\n",
    "|$\\vec{x_4}$ | Fargo (1996)                              | ?     | ?    | ?     | $\\cdots$ |\n",
    "|$\\vec{x_5}$ | Speed (1994)                              | ?     | ?    | ?     | $\\cdots$ |\n",
    "|$\\vec{x_6}$ | Apollo 13 (1995)                          | ?     | 2.0  | ?     | $\\cdots$ |\n",
    "|$\\vec{x_7}$ | Seven (a.k.a. Se7en) (1995)               | ?     | ?    | ?     | $\\cdots$ |\n",
    "|$\\vec{x_8}$ | Sixth Sense, The (1999)                   | 3.0   | ?    | 4.0   | $\\cdots$ |\n",
    "|$\\vec{x_9}$ | Aladdin (1992)                            | ?     | ?    | ?     | $\\cdots$ |\n",
    "|$\\cdots$    | $\\cdots$                                  | $\\cdots$ | $\\cdots$  | $\\cdots$ | $\\cdots$ |"
   ]
  },
  {
   "cell_type": "markdown",
   "metadata": {
    "tags": [
     "sl"
    ]
   },
   "source": [
    "Pri tem odgovori na naslednja vprašanja."
   ]
  },
  {
   "cell_type": "markdown",
   "metadata": {
    "tags": [
     "sl"
    ]
   },
   "source": [
    "#### 2.1. vprašanje:\n",
    "\n",
    "Utemelji izbiro algoritma in mere podobnosti."
   ]
  },
  {
   "cell_type": "code",
   "execution_count": 7,
   "metadata": {},
   "outputs": [],
   "source": [
    "# kodo lahko razdelite v več celic"
   ]
  },
  {
   "cell_type": "markdown",
   "metadata": {
    "tags": [
     "sl"
    ]
   },
   "source": [
    "Odgovor: **odgovor lahko zapišete v več celic**"
   ]
  },
  {
   "cell_type": "markdown",
   "metadata": {
    "tags": [
     "sl"
    ]
   },
   "source": [
    "#### 2.2. vprašanje:\n",
    "\n",
    "Koliko skupin filmov je med izbranimi? Ali poznamo kvantitativne ocene za različne možnosti razvrščanja v skupine?"
   ]
  },
  {
   "cell_type": "code",
   "execution_count": 8,
   "metadata": {},
   "outputs": [],
   "source": [
    "# kodo lahko razdelite v več celic"
   ]
  },
  {
   "cell_type": "markdown",
   "metadata": {
    "tags": [
     "sl"
    ]
   },
   "source": [
    "Odgovor: **odgovor lahko zapišete v več celic**"
   ]
  },
  {
   "cell_type": "markdown",
   "metadata": {
    "tags": [
     "sl"
    ]
   },
   "source": [
    "#### 2.3. vprašanje:\n",
    "\n",
    "Prikaži rezultate z uporabo ustrezne vizualizacije."
   ]
  },
  {
   "cell_type": "code",
   "execution_count": 9,
   "metadata": {},
   "outputs": [],
   "source": [
    "# kodo lahko razdelite v več celic"
   ]
  },
  {
   "cell_type": "markdown",
   "metadata": {
    "tags": [
     "sl"
    ]
   },
   "source": [
    "Odgovor: **odgovor lahko zapišete v več celic**"
   ]
  },
  {
   "cell_type": "markdown",
   "metadata": {
    "tags": [
     "sl"
    ]
   },
   "source": [
    "#### 2.4. vprašanje:\n",
    "\n",
    "Komentiraj smiselnost dobljenih rezultatov."
   ]
  },
  {
   "cell_type": "code",
   "execution_count": 10,
   "metadata": {},
   "outputs": [],
   "source": [
    "# kodo lahko razdelite v več celic"
   ]
  },
  {
   "cell_type": "markdown",
   "metadata": {
    "tags": [
     "sl"
    ]
   },
   "source": [
    "Odgovor: **odgovor lahko zapišete v več celic**"
   ]
  }
 ],
 "metadata": {
  "kernelspec": {
   "display_name": "Python 3",
   "language": "python",
   "name": "python3"
  },
  "language_info": {
   "codemirror_mode": {
    "name": "ipython",
    "version": 3
   },
   "file_extension": ".py",
   "mimetype": "text/x-python",
   "name": "python",
   "nbconvert_exporter": "python",
   "pygments_lexer": "ipython3",
   "version": "3.6.9"
  },
  "latex_envs": {
   "LaTeX_envs_menu_present": true,
   "autocomplete": true,
   "bibliofile": "biblio.bib",
   "cite_by": "apalike",
   "current_citInitial": 1,
   "eqLabelWithNumbers": true,
   "eqNumInitial": 1,
   "hotkeys": {
    "equation": "Ctrl-E",
    "itemize": "Ctrl-I"
   },
   "labels_anchors": false,
   "latex_user_defs": false,
   "report_style_numbering": false,
   "user_envs_cfg": false
  },
  "nbTranslate": {
   "displayLangs": [
    "sl"
   ],
   "hotkey": "alt-t",
   "langInMainMenu": true,
   "sourceLang": "sl",
   "targetLang": "en",
   "useGoogleTranslate": true
  }
 },
 "nbformat": 4,
 "nbformat_minor": 2
}
