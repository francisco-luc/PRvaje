{
 "cells": [
  {
   "cell_type": "markdown",
   "metadata": {
    "tags": [
     "sl"
    ]
   },
   "source": [
    "# Podatkovno rudarjenje - zbirka vaj in nalog\n",
    "\n",
    "Martin Stražar, Rok Gomišček, Tomaž Curk  \n",
    "2024, Univerza v Ljubljani, Fakulteta za računalništvo in informatiko"
   ]
  },
  {
   "cell_type": "markdown",
   "metadata": {
    "tags": [
     "sl"
    ]
   },
   "source": [
    "## Delovno okolje\n",
    "\n",
    "* [Namestitev](001-namestitev.ipynb)\n",
    "* [Git in github](002-git_in_github.ipynb)\n",
    "* [Oddaja domačih nalog](300-domace_naloge.ipynb)\n",
    "\n",
    "\n",
    "## 1. Priprava podatkov\n",
    "\n",
    "* [Knjižnica `numpy`](101-1_numpy.ipynb)\n",
    "* [Knjižnica `pandas`](101-2_pandas.ipynb)\n",
    "\n",
    "\n",
    "## 2. Prikazovanje podatkov\n",
    "\n",
    "* [Knjižnica `matplotlib`](102-1_prikaz_matplotlib.ipynb)\n",
    "* [Primer: temperatura v Stockholmu](102-2_podatki_temperatura.ipynb)\n",
    "* [Primer: zimske olimpijske igre, Soči 2014](102-3_prikaz_olimpijske.ipynb)\n",
    "\n",
    "\n",
    "## 3. Hugging Face in Streamlit\n",
    "\n",
    "* [Hugging Face](103-1_huggingface.ipynb)\n",
    "* [Streamlit](103-2_streamlit.ipynb)\n",
    "\n",
    "## 3. Porazdelitve in osamelci\n",
    "\n",
    "* [Porazdelitve in osamelci](103-1_porazdelitve.ipynb)\n",
    "* [Primer: iskanje neslanih šal](103-2_osamelci.ipynb)\n",
    "\n",
    "\n",
    "## 4. [Odkrivanje skupin](104-1_grucenje_voditelji.ipynb)\n",
    "\n",
    "* [Metoda voditeljev](104-1_grucenje_voditelji.ipynb#Metoda-voditeljev)\n",
    "* [Hierarhično gručenje](104-2_grucenje_hierarhicno.ipynb)\n",
    "* [Primer: genomski podatki](104-3_grucenje_genomski.ipynb)\n",
    "\n",
    "\n",
    "## 5. [Nadzorovano učenje](105-1_nadzorovano_linreg.ipynb)\n",
    "\n",
    "* [Linearna regresija](105-1_nadzorovano_linreg.ipynb#Linearna-regresija)\n",
    "* [Naivni Bayesov klasifikator](105-2_nadzorovano_naivniBayes.ipynb)\n",
    "* [Orange za klasifikacijo](105-3_nadzorovano_vrednotenje.ipynb)\n",
    "* [Orange za regresijo](105-4_ocenjevanje_regresija.ipynb)\n",
    "* [Klasifikacijska pravila](105-5_klasifikacijska_pravila.ipynb)\n",
    "* [Primer: urnik](105-6_urnik.ipynb)\n",
    "\n",
    "## 6. [Nenegativna matrična faktorizacija in zlivanje podatkov](106-1_NMF.ipynb)\n",
    "\n",
    "\n",
    "## 7. [Omrežja](107-1_omrezja_networkx.ipynb)\n",
    "\n",
    "* [Knjižnica `networkx`](107-1_omrezja_networkx.ipynb#Knjižica-networkx)\n",
    "* [Primer: omrežje elektronskih sporočil](107-2_omrezja_email.ipynb)\n",
    "\n",
    "\n",
    "## 8. [Zaporedja](108-1_zaporedja_HMM.ipynb)\n",
    "* [Skriti Markovi modeli](108-1_zaporedja_HMM.ipynb#Skriti-Markovi-modeli)\n",
    "* [Časovne vrste](108-2_zaporedja_casovne.ipynb)\n",
    "* [Napovedovanje trendov](108-3_zaporedja_trendi.ipynb)\n",
    "\n",
    "\n",
    "## Naloge\n",
    "\n",
    "* [Priprava in pregled podatkov](301-priprava_pregled.ipynb)\n",
    "* [Iskanje strukture v podatkih](302-struktura_podatkov.ipynb)\n",
    "* [Napovedovanje vrednosti](303-nadzorovano_ucenje.ipynb)\n",
    "* [Uporaba matrične faktorizacije za napovedovanje](304-matricna_faktorizacija.ipynb)\n",
    "* [Implementacija priporočilnega sistema](305-aplikacija.ipynb)\n",
    "\n",
    "\n",
    "## [Literatura](900-lit.ipynb)\n"
   ]
  }
 ],
 "metadata": {
  "kernelspec": {
   "display_name": "Python 3",
   "language": "python",
   "name": "python3"
  },
  "language_info": {
   "codemirror_mode": {
    "name": "ipython",
    "version": 3
   },
   "file_extension": ".py",
   "mimetype": "text/x-python",
   "name": "python",
   "nbconvert_exporter": "python",
   "pygments_lexer": "ipython3",
   "version": "3.6.9"
  },
  "latex_envs": {
   "LaTeX_envs_menu_present": true,
   "autocomplete": true,
   "bibliofile": "biblio.bib",
   "cite_by": "apalike",
   "current_citInitial": 1,
   "eqLabelWithNumbers": true,
   "eqNumInitial": 1,
   "hotkeys": {
    "equation": "Ctrl-E",
    "itemize": "Ctrl-I"
   },
   "labels_anchors": false,
   "latex_user_defs": false,
   "report_style_numbering": false,
   "user_envs_cfg": false
  },
  "nbTranslate": {
   "displayLangs": [
    "sl"
   ],
   "hotkey": "alt-t",
   "langInMainMenu": true,
   "sourceLang": "sl",
   "targetLang": "en",
   "useGoogleTranslate": true
  },
  "toc": {
   "nav_menu": {},
   "number_sections": false,
   "sideBar": true,
   "skip_h1_title": false,
   "toc_cell": false,
   "toc_position": {
    "height": "1143px",
    "left": "0px",
    "right": "1196px",
    "top": "158px",
    "width": "212px"
   },
   "toc_section_display": "block",
   "toc_window_display": false
  }
 },
 "nbformat": 4,
 "nbformat_minor": 2
}
