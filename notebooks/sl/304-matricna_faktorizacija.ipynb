{
 "cells": [
  {
   "cell_type": "markdown",
   "metadata": {
    "tags": [
     "sl"
    ]
   },
   "source": [
    "## Uporaba matrične faktorizacije za napovedovanje\n",
    "\n",
    "Podatkovno rudarjenje, naloga, `<VPIŠI DATUM ODDAJE>`  \n",
    "**`<VPIŠI Ime in priimek>`**"
   ]
  },
  {
   "cell_type": "markdown",
   "metadata": {},
   "source": [
    "V prejšnji domači nalogi smo uporabili metode nadzorovanega modeliranja\n",
    "na problemu napovedovanja ocen neocenjenih filmov. Ker smo za vsakega\n",
    "od $m$ uporabnikov zgradili svoj model, dobimo $m$ modelov, ki si med seboj\n",
    "ne delijo nobene informacije. \n",
    "\n",
    "Metode matrične faktorizacije so pomemben gradnik sodobnih priporočilnih sistemov.\n",
    "Omogočajo nam, da vsakega uporabnika in vsak izdelek (film) modeliramo\n",
    "s pomočjo $r$ regresijskih modelov, kar vodi v enoten model, ki omogoča napoved \n",
    "ocene za poljubno kombinacijo uporabnika in filma.\n",
    "\n",
    "Model \\emph{matrične faktorizacije} matriko podatkov $X \\in \\mathbb{R}^{m \\times n}$\n",
    "oceni s produktov dveh matrik nižjega ranga  $W \\in \\mathbb{R}^{m \\times r}$ in \n",
    "$H \\in \\mathbb{R}^{n \\times r}$, tako da\n",
    "\\begin{equation}\n",
    "    X = WH^T + E\n",
    "\\end{equation}\n",
    "kjer je $E \\in \\mathbb{R}^{m \\times n}$ matrika napak oz. ostankov. Matriki modela $W$ in $H$ lahko poiščemo\n",
    "tudi, če nekatere vrednosti v $X$ niso znane, kar velja za priporočilne sisteme.\n",
    "Model omogoča \\emph{napoved} vseh omenjenih neznanih vrednosti.\n",
    "\n",
    "\n",
    "Vrednotenje priporočilnih sistemov se razlikuje od običajnih regresijskih\n",
    "modelov, saj na napovedne vrednosti gledamo kot na \\emph{seznam priporočil},\n",
    "kjer nas zanima samo nekaj vrhnjih elementov tega seznama oz. ali se\n",
    "med njimi nahajajo relevantna priporočila."
   ]
  },
  {
   "cell_type": "markdown",
   "metadata": {},
   "source": [
    "### Podatki\n",
    "\n",
    "Opis podatkovne zbirke MovieLens 1996-2016 ostaja enak \\href{https://ucilnica.fri.uni-lj.si/pluginfile.php/30429/mod\\_assign/intro/PR2015-2016\\_DN1.pdf}{prvi nalogi}."
   ]
  },
  {
   "cell_type": "markdown",
   "metadata": {},
   "source": [
    "### Predpriprava podatkov\n",
    "\n",
    "Za potrebe te naloge podatke pripravite na naslednji način:\n",
    "\\begin{enumerate}\n",
    "    \\item Izberite $n$ filmov, ki imajo vsaj 20 ocen. \n",
    "    \\item Izberite $m$ uporabnikov, ki je ocenilo vsaj 20 filmov. Upoštevajte samo filme, izbrane v prejšnjem koraku.\n",
    "    \\item Sestavite matriko $X$ velikosti $m \\times n$ (v vsaki vrstici vsebuje vsaj 20 ocen).\n",
    "\\end{enumerate}\n",
    "\n",
    "\\noindent Nato sestavite učno in testno množico, kot je prikazano na\n",
    "sliki. Za vsakega uporabnika (vrstico v $X$) izberite $k$\n",
    "(npr. $k=5$) visoko ocenjenih filmov (z ocenami 5 ali 4). Učno matriko\n",
    "$X_U$ sestavite tako, da izbrane filme odstranite, in jih shranite v\n",
    "testno matriko $X_T$."
   ]
  },
  {
   "cell_type": "markdown",
   "metadata": {},
   "source": [
    "<img src=\"slike/nmf-shema.pdf\" width=600/>"
   ]
  },
  {
   "cell_type": "markdown",
   "metadata": {},
   "source": [
    "### Vprašanja\n",
    "\n",
    "\\begin{enumerate}\n",
    "\n",
    "\\item (30 \\%) Dokončajte implementacijo modela NMF, predstavljenega na laboratorijskih vajah.\n",
    "    Pri izračunu gradienta (odvoda) za vsako spremenljivko upoštevajte samo znane ocene.\n",
    "    Na kratko opišite, kateri parametri vplivajo na učenje modela in kako? Kakšne kompromise\n",
    "    predstavljajo?\n",
    "\n",
    "\\item (50 \\%) Sestavite učno in testno množico v skladu z opisom na Sliki~\\ref{f:nmf-shema}a.\n",
    "    Za vsakega uporabnika naključno odstranite $k=5$ visoko ocenjenih filmov (z ocenami 4 ali 5).\n",
    "    Omenjeni filmi predstavljajo \\emph{testno množco}.\n",
    "\n",
    "    S pomočjo algoritma poiščite matriki $W$ in $H$, ki modelirata učno matriko $X_U$,\n",
    "    kot je prikazano na Sliki~\\ref{f:nmf-shema}b.\n",
    "\n",
    "    Za vsakega uporabnika $i$ nato napovejte ocene za vse neocenjene filme. Vektor\n",
    "    ocen pretvorite v seznam priporočil tako, da ocene uredite po padajočem vrstnem \n",
    "    redu (višje napovedane ocene se nahajajo v vrhu seznama). Postopek je prikazan\n",
    "    na Sliki~\\ref{f:nmf-shema}c.\n",
    "\n",
    "    Ocenite, ali se filmi, ki ste jih odstranili za uporabnika $i$ v povprečju\n",
    "    pojavljajo bližje vrhu seznama, kot bi to pričakovali po naključju. Na ta način\n",
    "    ugotovite, ali model smiselno priporoča filme. Opišite, kako ste izvedli\n",
    "    postopek vrednotenja in komentirajte rezultate.\n",
    "\n",
    "\\item (20 \\%) Kako parametri modela NMF vplivajo na uspešnost napovedi? Preizkusite\n",
    "    npr. nekaj različnih vrednosti za rang ($r$) matrik $W$ in $H$ in preverite,\n",
    "    kako različne nastavitve vplivajo na napoved.\n",
    "\n",
    "\n",
    "\\item (Bonus 10 \\%) Ustvarite novega uporabnika, ki predstavlja vaše ocene\n",
    "filmov. Ocenite nekaj filmov po lastnem okusu in ponovite analizo. \n",
    "Komentirajte ustreznost predlogov.\n",
    "\n",
    "\\end{enumerate}"
   ]
  },
  {
   "cell_type": "markdown",
   "metadata": {},
   "source": [
    "### Zapiski\n",
    "Pri implementaciji, uporabi in opisu algoritma za reševanje matrične faktorizacije si lahko pomagate\n",
    "z zapiski laboratorijskih vaj, ki jih najdete \\href{https://ucilnica.fri.uni-lj.si/mod/resource/view.php?id=14798}{na spletni učilnici}."
   ]
  },
  {
   "cell_type": "markdown",
   "metadata": {},
   "source": [
    "### Viri\n",
    "\n",
    "\\begin{enumerate}\n",
    "\\item Y. Koren, R. Bell, and C. Volinsky, “Matrix factorization techniques for recommender systems,” Computer (Long. Beach. Calif)., no. 8, pp. 30–37, 2009. \\href{https://ucilnica.fri.uni-lj.si/mod/resource/view.php?id=12421}{[Povezava]}.\n",
    "\\end{enumerate}"
   ]
  }
 ],
 "metadata": {
  "kernelspec": {
   "display_name": "Python 3",
   "language": "python",
   "name": "python3"
  },
  "language_info": {
   "codemirror_mode": {
    "name": "ipython",
    "version": 3
   },
   "file_extension": ".py",
   "mimetype": "text/x-python",
   "name": "python",
   "nbconvert_exporter": "python",
   "pygments_lexer": "ipython3",
   "version": "3.6.9"
  },
  "latex_envs": {
   "LaTeX_envs_menu_present": true,
   "autocomplete": true,
   "bibliofile": "biblio.bib",
   "cite_by": "apalike",
   "current_citInitial": 1,
   "eqLabelWithNumbers": true,
   "eqNumInitial": 1,
   "hotkeys": {
    "equation": "Ctrl-E",
    "itemize": "Ctrl-I"
   },
   "labels_anchors": false,
   "latex_user_defs": false,
   "report_style_numbering": false,
   "user_envs_cfg": false
  },
  "nbTranslate": {
   "displayLangs": [
    "sl"
   ],
   "hotkey": "alt-t",
   "langInMainMenu": true,
   "sourceLang": "sl",
   "targetLang": "en",
   "useGoogleTranslate": true
  }
 },
 "nbformat": 4,
 "nbformat_minor": 2
}
