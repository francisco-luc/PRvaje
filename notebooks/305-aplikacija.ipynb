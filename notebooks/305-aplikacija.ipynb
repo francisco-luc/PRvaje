{
 "cells": [
  {
   "cell_type": "markdown",
   "metadata": {
    "lang": "sl"
   },
   "source": [
    "## Implementacija priporočilnega sistema\n",
    "\n",
    "Podatkovno rudarjenje, naloga, `<VPIŠI DATUM ODDAJE>`  \n",
    "**`<VPIŠI Ime in priimek>`**"
   ]
  },
  {
   "cell_type": "markdown",
   "metadata": {
    "lang": "en"
   },
   "source": [
    "## Implementation of a recommendation system\n",
    "\n",
    "Data mining, assignment, `<VPIŠI DATUM ODDAJE>`  \n",
    "**`<VPIŠI Ime in priimek>`**"
   ]
  },
  {
   "cell_type": "markdown",
   "metadata": {
    "lang": "sl"
   },
   "source": [
    "Aplikacija naj združuje vse pridobljeno znanje. Implementirana naj bo s poljubno tehnologijo in omogočala prijavo novega uporabnika, ocenjevanje filmov ter priporočanje še ne ocenjenih filmov."
   ]
  },
  {
   "cell_type": "markdown",
   "metadata": {
    "lang": "en"
   },
   "source": [
    "Develop an application in which you combine all the acquired knowledge. The application should be implemented using any technology and it should allow the new user to sign in, evaluate movies and recommend not yet rated films."
   ]
  },
  {
   "cell_type": "markdown",
   "metadata": {
    "lang": "sl"
   },
   "source": [
    "### Podatki\n",
    "\n",
    "Opis podatkovne zbirke MovieLens ostaja enak prvi nalogi."
   ]
  },
  {
   "cell_type": "markdown",
   "metadata": {
    "lang": "en"
   },
   "source": [
    "### Data\n",
    "\n",
    "The description of the MovieLens database remains the same as for the first assignment."
   ]
  },
  {
   "cell_type": "markdown",
   "metadata": {
    "lang": "sl"
   },
   "source": [
    "### Vprašanja\n",
    "\n",
    "#### 1.  Prototip (100%)\n",
    "\n",
    "Implementirajte prototip aplikacije priporočilnega sistema. Pri tem lahko uporabite poljubne metode podatkovnega rudarjenja. Povsod, kjer implementacija funkcijskih zahteve ni natančno določena, sami sprejmite odločitve, potrebne za implementacijo. \n",
    "\n",
    "Aplikacija naj omogoča naslednje funkcionalnosti:\n",
    "\n",
    "* Uporabniški vmesnik. Po lastni izbiri načrtujte preprost uporabniški vmesnik. Vmesnik je lahko ukazna vrstica, grafični vmesnik ali spletni vmesnik. Sistem naj bo možno enostavno zagnati oz. naj bo dostopen za uporabo. Vmesnik omogoča komunikacijo med uporabnikom in priporočilnim sistemom.\n",
    "\n",
    "* Prijava novega uporabnika. Sistem naj omogoča dodajanje novih uporabnikov in vnos ocen preko uporabniškega vmesnika. Uporabnike lahko identificirate npr. z uporabniškimi imeni, številkami, ipd. Vnesene ocene se ob izhodu iz sistema shranijo in so upoštevane pri ponovnem zagonu. Uporabnik filme, ki so v podatkih, oceni z ocenami med 1 (nezadostno) in 5 (odlično).\n",
    "\n",
    "* Na zahtevo uporabnika generirajte spisek petih uporabniku najbolj ustreznih filmov, ki jih uporabnik še ni ocenil. Metoda za priporočanje filmov je lahko izbrana iz množice metod, ki smo jih spoznali v okviru predmeta (metode nadzorovanega modeliranja, matrična faktorizacija, ...) ali drugih. V poročilu opišite, katero metodo uporabljate. \n",
    "\n",
    "#### Bonus vprašanje (20%)\n",
    "V aplikacijo dodajte različne vizualizacije trenutnih podatkov, ki jih je mogoče zagnati iz uporabniškega vmesnika. To lahko vključuje gruče uporabnikov, trende različnih žanrov skozi čas, porazdelitve (povprečnih ocen), trenutno najpopularnejše filme, ipd.\n",
    "\n",
    "\n",
    "V poročilu opišite primere za uporabo vaše aplikacije - slike zaslona s spremnim besedilom oz. ukaze in rezultate, če je vmesnik ukazna vrstica. Pri tem prikažite najmanj en primer za vsako funkcionalnost, ki ste jo implementirali."
   ]
  },
  {
   "cell_type": "markdown",
   "metadata": {
    "lang": "en"
   },
   "source": [
    "### Questions\n",
    "\n",
    "#### 1. Prototype (100%)\n",
    "\n",
    "Implement a prototype recommendation system. You can use any data mining method. Wherever the implementation of the functional requirements is not specified, you will take the decisions you need to implement yourself.\n",
    "\n",
    "The application should have the following functionalities:\n",
    "\n",
    "* User interface. Plan a simple user interface of your choice. The interface can be a command line, a graphical interface or a web interface. It should be easy to start the system and be accessible for use. The interface must support the communication between the user and the recommendation system.\n",
    "\n",
    "* Registering a new user. The system should allow to add new users and input ratings through the user interface. Users can be identified, for example, with usernames, numbers, etc. The entered ratings are saved when exiting the system and are used when restarted. The user rates the films in the data  with scores between 1 (insufficient) and 5 (excellent).\n",
    "\n",
    "* At the request of the user, generate a list of five most appropriate films that the user has not yet rated. The method for recommending films can be selected from a set of methods that we have learned during the course (methods of supervised modeling, matrix factorization, ...) or others. In the report, describe which method you are using.\n",
    "\n",
    "#### Bonus question (20%)\n",
    "Add different visualizations of the current data that can be started from the user interface to the application. This can include user clusters, trends of different genres over time, distribution (average ratings), currently the most popular movies, etc.\n",
    "\n",
    "Describe in the report the examples of using your application - a screen image with a text or commands and results if the interface is a command line. In doing so, display at least one example for each functionality that you have implemented."
   ]
  },
  {
   "cell_type": "markdown",
   "metadata": {
    "lang": "sl"
   },
   "source": [
    "### Rezultati\n",
    "\n",
    "Delovanje aplikacije na kratko predstavite v poročilu.\n",
    "\n",
    "Rezultati naloge so:\n",
    "* poročilo, ki ga sestavljajo kratka navodila za uporabo aplikacije. Oddajte datoteko `.tex` in `.pdf` poročila,\n",
    "* izvorna koda programov (datoteke .ipynb, .py, ...)."
   ]
  },
  {
   "cell_type": "markdown",
   "metadata": {
    "lang": "en"
   },
   "source": [
    "### Results\n",
    "\n",
    "Present your application briefly in a report.\n",
    "\n",
    "The results of the task are:\n",
    "* a report that consists of brief instructions for using the application. Submit the `.tex` and` .pdf` file of the report,\n",
    "* source code of your program (.ipynb, .py, ...)."
   ]
  }
 ],
 "metadata": {
  "kernelspec": {
   "display_name": "Python 3",
   "language": "python",
   "name": "python3"
  },
  "language_info": {
   "codemirror_mode": {
    "name": "ipython",
    "version": 3
   },
   "file_extension": ".py",
   "mimetype": "text/x-python",
   "name": "python",
   "nbconvert_exporter": "python",
   "pygments_lexer": "ipython3",
   "version": "3.8.6"
  },
  "latex_envs": {
   "LaTeX_envs_menu_present": true,
   "autoclose": false,
   "autocomplete": true,
   "bibliofile": "biblio.bib",
   "cite_by": "apalike",
   "current_citInitial": 1,
   "eqLabelWithNumbers": true,
   "eqNumInitial": 1,
   "hotkeys": {
    "equation": "Ctrl-E",
    "itemize": "Ctrl-I"
   },
   "labels_anchors": false,
   "latex_user_defs": false,
   "report_style_numbering": false,
   "user_envs_cfg": false
  },
  "nbTranslate": {
   "displayLangs": [
    "*"
   ],
   "hotkey": "alt-t",
   "langInMainMenu": true,
   "sourceLang": "sl",
   "targetLang": "en",
   "useGoogleTranslate": true
  }
 },
 "nbformat": 4,
 "nbformat_minor": 2
}
