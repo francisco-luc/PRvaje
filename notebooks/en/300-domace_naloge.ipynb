{
 "cells": [
  {
   "cell_type": "markdown",
   "metadata": {},
   "source": [
    "# Priprava in oddaja domačih nalog"
   ]
  },
  {
   "cell_type": "markdown",
   "metadata": {},
   "source": [
    "Na [spletni učilnici predmeta](https://ucilnica.fri.uni-lj.si/course/view.php?id=37) boste dobili povezavo do GitHub Classroom."
   ]
  },
  {
   "cell_type": "markdown",
   "metadata": {},
   "source": [
    "<img src=\"slike/dn_1.png\" width=600/>"
   ]
  },
  {
   "cell_type": "markdown",
   "metadata": {},
   "source": [
    "Po kliku na **Accept this assignment** se bo začel usvtarjati vaš repozitorij za domačo nalogo."
   ]
  },
  {
   "cell_type": "markdown",
   "metadata": {},
   "source": [
    "<img src=\"slike/dn_2.png\" width=600/>"
   ]
  },
  {
   "cell_type": "markdown",
   "metadata": {},
   "source": [
    "Čez nekaj trenutkov boste lahko na GitHubu videli svoj repozitorij z začetno kodo za domačo nalogo."
   ]
  },
  {
   "cell_type": "markdown",
   "metadata": {},
   "source": [
    "<img src=\"slike/dn_3.png\" width=600/>"
   ]
  },
  {
   "cell_type": "markdown",
   "metadata": {},
   "source": [
    "V naslednjem koraku bomo repozitorij prenesli na računalnik. To lahko storimo z ukazom `git clone <url-repozitorija>`.\n",
    "\n",
    "Namig: če uporabimo samo `git clone <url-repozitorija>` se bo ustvarila mapa z istim imenom, kot repozitorij. Če želimo določiti drugo ime, to lahko storimo z `git clone <url-repozitorija> <ime mape>`"
   ]
  },
  {
   "cell_type": "markdown",
   "metadata": {},
   "source": [
    "<img src=\"slike/dn_4.png\" width=600/>"
   ]
  },
  {
   "cell_type": "markdown",
   "metadata": {},
   "source": [
    "Zaženite `jupyter notebook` in začnite reševati domačo nalogo. Pri tem ne pozabit vpisati vašega imena in datuma oddaje.\n",
    "\n",
    "Ko boste končali z reševanjem, preden objavite zadnjo verzijo na GitHub, obvezno ponovno zaženite notebook in poženite vse celice. Tako bodo celice s kodo oštevilčene od 1 naprej in boste lahko preverili, da je vse v pravem vrstnem redu."
   ]
  },
  {
   "cell_type": "markdown",
   "metadata": {},
   "source": [
    "<img src=\"slike/dn_5.png\"/>"
   ]
  },
  {
   "cell_type": "markdown",
   "metadata": {},
   "source": [
    "Na koncu je potrebno še poslati nalogo nazaj na Github. To lahko storite z naslednjim zaporedjem ukazov:\n",
    "\n",
    "`git add <ime_datoteke>`\n",
    "\n",
    "`git commit -m \"sporočilo\"`\n",
    "\n",
    "`git push`"
   ]
  }
 ],
 "metadata": {
  "kernelspec": {
   "display_name": "Python 3",
   "language": "python",
   "name": "python3"
  },
  "language_info": {
   "codemirror_mode": {
    "name": "ipython",
    "version": 3
   },
   "file_extension": ".py",
   "mimetype": "text/x-python",
   "name": "python",
   "nbconvert_exporter": "python",
   "pygments_lexer": "ipython3",
   "version": "3.7.3"
  },
  "nbTranslate": {
   "displayLangs": [
    "sl"
   ],
   "hotkey": "alt-t",
   "langInMainMenu": true,
   "sourceLang": "sl",
   "targetLang": "en",
   "useGoogleTranslate": true
  }
 },
 "nbformat": 4,
 "nbformat_minor": 2
}
