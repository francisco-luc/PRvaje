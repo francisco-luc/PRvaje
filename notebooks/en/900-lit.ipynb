{
 "cells": [
  {
   "cell_type": "markdown",
   "metadata": {
    "tags": [
     "en"
    ]
   },
   "source": [
    "# Literature"
   ]
  },
  {
   "cell_type": "code",
   "execution_count": 1,
   "metadata": {
    "hide_input": true,
    "run_control": {
     "marked": true
    },
    "scrolled": true
   },
   "outputs": [
    {
     "data": {
      "text/html": [
       "<!DOCTYPE html PUBLIC \"-//W3C//DTD XHTML 1.0 Transitional//EN\" \"http://www.w3.org/TR/xhtml1/DTD/xhtml1-transitional.dtd\">\n",
       "<html xmlns=\"http://www.w3.org/1999/xhtml\">\n",
       "<head>\n",
       "  <meta http-equiv=\"Content-Type\" content=\"text/html; charset=utf-8\" />\n",
       "  <meta http-equiv=\"Content-Style-Type\" content=\"text/css\" />\n",
       "  <meta name=\"generator\" content=\"pandoc\" />\n",
       "  <title></title>\n",
       "  <style type=\"text/css\">code{white-space: pre;}</style>\n",
       "</head>\n",
       "<body>\n",
       "<div id=\"refs\" class=\"references\">\n",
       "<div id=\"ref-scipy\">\n",
       "<p>Jones, Eric, Travis Oliphant, Pearu Peterson, and others. 2001–2001--. “SciPy: Open Source Scientific Tools for Python.” <a href=\"http://www.scipy.org/\" class=\"uri\">http://www.scipy.org/</a>.</p>\n",
       "</div>\n",
       "<div id=\"ref-DMbook\">\n",
       "<p>Tan, Pang-Ning, Michael Steinbach, and Vipin Kumar. 2005. <em>Introduction to Data Mining, (First Edition)</em>. Boston, MA, USA: Addison-Wesley Longman Publishing Co., Inc. <a href=\"https://www-users.cs.umn.edu/~kumar001/dmbook/index.php\" class=\"uri\">https://www-users.cs.umn.edu/~kumar001/dmbook/index.php</a>.</p>\n",
       "</div>\n",
       "<div id=\"ref-numpy\">\n",
       "<p>Walt, S. van der, S. C. Colbert, and G. Varoquaux. 2011. “The Numpy Array: A Structure for Efficient Numerical Computation.” <em>Computing in Science Engineering</em> 13 (2): 22–30. doi:<a href=\"https://doi.org/10.1109/MCSE.2011.37\">10.1109/MCSE.2011.37</a>.</p>\n",
       "</div>\n",
       "<div id=\"ref-numpyweb\">\n",
       "<p>n.d. <a href=\"http://numpy.scipy.org\" class=\"uri\">http://numpy.scipy.org</a>.</p>\n",
       "</div>\n",
       "<div id=\"ref-numpytut\">\n",
       "<p>n.d. <a href=\"http://scipy.org/Tentative_NumPy_Tutorial\" class=\"uri\">http://scipy.org/Tentative_NumPy_Tutorial</a>.</p>\n",
       "</div>\n",
       "<div id=\"ref-numpymatlab\">\n",
       "<p>n.d. <a href=\"http://scipy.org/NumPy_for_Matlab_Users\" class=\"uri\">http://scipy.org/NumPy_for_Matlab_Users</a>.</p>\n",
       "</div>\n",
       "</div>\n",
       "</body>\n",
       "</html>\n"
      ],
      "text/plain": [
       "<IPython.core.display.HTML object>"
      ]
     },
     "execution_count": 1,
     "metadata": {},
     "output_type": "execute_result"
    }
   ],
   "source": [
    "from IPython.core.display import display, HTML\n",
    "HTML(open('biblio.html').read())"
   ]
  }
 ],
 "metadata": {
  "kernelspec": {
   "display_name": "Python [default]",
   "language": "python",
   "name": "python3"
  },
  "language_info": {
   "codemirror_mode": {
    "name": "ipython",
    "version": 3
   },
   "file_extension": ".py",
   "mimetype": "text/x-python",
   "name": "python",
   "nbconvert_exporter": "python",
   "pygments_lexer": "ipython3",
   "version": "3.6.9"
  },
  "latex_envs": {
   "LaTeX_envs_menu_present": true,
   "autocomplete": true,
   "bibliofile": "biblio.bib",
   "cite_by": "apalike",
   "current_citInitial": 1,
   "eqLabelWithNumbers": true,
   "eqNumInitial": 1,
   "hotkeys": {
    "equation": "Ctrl-E",
    "itemize": "Ctrl-I"
   },
   "labels_anchors": true,
   "latex_user_defs": true,
   "report_style_numbering": true,
   "user_envs_cfg": true
  },
  "nbTranslate": {
   "displayLangs": [
    "sl"
   ],
   "hotkey": "alt-t",
   "langInMainMenu": true,
   "sourceLang": "sl",
   "targetLang": "en",
   "useGoogleTranslate": true
  }
 },
 "nbformat": 4,
 "nbformat_minor": 2
}
