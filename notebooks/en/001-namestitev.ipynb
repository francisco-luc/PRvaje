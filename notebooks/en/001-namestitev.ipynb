{
 "cells": [
  {
   "cell_type": "markdown",
   "metadata": {},
   "source": [
    "# Delovno okolje"
   ]
  },
  {
   "cell_type": "markdown",
   "metadata": {},
   "source": [
    "## Namestitev\n",
    "\n",
    "Načinov namestitve delovnega okolja je več. Izberite tisto, ki vam najbolj ustreza."
   ]
  },
  {
   "cell_type": "code",
   "execution_count": 1,
   "metadata": {},
   "outputs": [
    {
     "name": "stdout",
     "output_type": "stream",
     "text": [
      "# !/bin/bash\r\n",
      "\r\n",
      "# Essentials\r\n",
      "pip install --upgrade numpy\r\n",
      "pip install --upgrade scipy\r\n",
      "pip install --upgrade Pillow\r\n",
      "pip install --upgrade matplotlib\r\n",
      "#pip install --upgrade GPy\r\n",
      "\r\n",
      "# Orange and requirements\r\n",
      "pip install --upgrade Orange3\r\n",
      "\r\n",
      "# Scikit-learn\r\n",
      "pip install --upgrade sklearn\r\n",
      "\r\n",
      "# iPython notebook and requirements\r\n",
      "pip install --upgrade terminado\r\n",
      "pip install --upgrade functools32\r\n",
      "pip install --upgrade jupyter\r\n",
      "pip install --upgrade jupyter_contrib_nbextensions\r\n",
      "\r\n",
      "# Test installations\r\n",
      "python -c \"import Orange\"\r\n",
      "python -c \"import sklearn\"\r\n",
      "python -c \"import numpy\"\r\n",
      "python -c \"import scipy\"\r\n",
      "python -c \"import matplotlib\"\r\n",
      "#python -c \"import GPy\"\r\n",
      "python -c \"import jupyter\"\r\n",
      "\r\n"
     ]
    }
   ],
   "source": [
    "!cat skripte/pip_install.sh"
   ]
  },
  {
   "cell_type": "markdown",
   "metadata": {},
   "source": [
    "### Conda"
   ]
  },
  {
   "cell_type": "code",
   "execution_count": 2,
   "metadata": {},
   "outputs": [
    {
     "name": "stdout",
     "output_type": "stream",
     "text": [
      "conda install -c conda-forge jupyter_contrib_nbextensions\r\n",
      "conda install -c conda-forge jupyter_nbextensions_configurator\r\n",
      "jupyter contrib nbextension install --user\r\n",
      "jupyter nbextensions_configurator enable --user\r\n",
      "\r\n",
      "jupyter nbextension install https://rawgit.com/jfbercher/latex_envs/master/latex_envs.zip  --user\r\n",
      "jupyter nbextension enable latex_envs/latex_envs\r\n",
      "\r\n",
      "pip install jupyter_latex_envs\r\n",
      "jupyter nbextension install --py latex_envs\r\n",
      "jupyter nbextension enable --py latex_envs\r\n",
      "\r\n",
      "jupyter nbextension install https://rawgit.com/jfbercher/jupyter_nbTranslate/master/nbTranslate.zip --user\r\n",
      "jupyter nbextension enable nbTranslate/main\r\n"
     ]
    }
   ],
   "source": [
    "!cat skripte/conda_install.sh"
   ]
  },
  {
   "cell_type": "markdown",
   "metadata": {},
   "source": [
    "### Virtualenv\n"
   ]
  },
  {
   "cell_type": "markdown",
   "metadata": {},
   "source": [
    "### Docker"
   ]
  }
 ],
 "metadata": {
  "kernelspec": {
   "display_name": "Python [default]",
   "language": "python",
   "name": "python3"
  },
  "language_info": {
   "codemirror_mode": {
    "name": "ipython",
    "version": 3
   },
   "file_extension": ".py",
   "mimetype": "text/x-python",
   "name": "python",
   "nbconvert_exporter": "python",
   "pygments_lexer": "ipython3",
   "version": "3.6.9"
  },
  "latex_envs": {
   "LaTeX_envs_menu_present": true,
   "autocomplete": true,
   "bibliofile": "biblio.bib",
   "cite_by": "apalike",
   "current_citInitial": 1,
   "eqLabelWithNumbers": true,
   "eqNumInitial": 1,
   "hotkeys": {
    "equation": "Ctrl-E",
    "itemize": "Ctrl-I"
   },
   "labels_anchors": false,
   "latex_user_defs": false,
   "report_style_numbering": false,
   "user_envs_cfg": false
  },
  "nbTranslate": {
   "displayLangs": [
    "sl"
   ],
   "hotkey": "alt-t",
   "langInMainMenu": true,
   "sourceLang": "en",
   "targetLang": "fr",
   "useGoogleTranslate": true
  },
  "toc": {
   "nav_menu": {},
   "number_sections": true,
   "sideBar": true,
   "skip_h1_title": true,
   "toc_cell": true,
   "toc_position": {},
   "toc_section_display": "block",
   "toc_window_display": false
  }
 },
 "nbformat": 4,
 "nbformat_minor": 2
}
