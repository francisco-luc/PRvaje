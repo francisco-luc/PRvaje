{
 "cells": [
  {
   "cell_type": "markdown",
   "metadata": {
    "tags": [
     "en"
    ]
   },
   "source": [
    "# Introduction to Streamlit\n",
    "\n",
    "Streamlit is an open-source app framework for Machine Learning and Data Science projects. It allows you to create and share custom web apps with just a few lines of code."
   ]
  },
  {
   "cell_type": "markdown",
   "metadata": {
    "tags": [
     "en"
    ]
   },
   "source": [
    "## Installation\n",
    "\n",
    "To install Streamlit, you can use pip:\n",
    "```bash\n",
    "pip install streamlit\n",
    "```\n",
    "Once installed, you can run Streamlit apps directly from the command line:\n",
    "```bash\n",
    "streamlit run your_script.py\n",
    "```"
   ]
  },
  {
   "cell_type": "markdown",
   "metadata": {
    "tags": [
     "en"
    ]
   },
   "source": [
    "## Basic Usage\n",
    "\n",
    "Here is a simple example of a Streamlit app:\n",
    "```python\n",
    "import streamlit as st\n",
    "\n",
    "st.title('Hello, Streamlit!')\n",
    "st.write('This is a simple Streamlit app.')\n",
    "```\n",
    "To run the app, save the code in a file (e.g., `app.py`) and run:\n",
    "```bash\n",
    "streamlit run app.py\n",
    "```\n",
    "\n",
    "This will start a local web server and open the app in your default web browser."
   ]
  },
  {
   "cell_type": "markdown",
   "metadata": {
    "tags": [
     "en"
    ]
   },
   "source": [
    "## Adding Widgets\n",
    "\n",
    "Streamlit provides a variety of widgets to make your app interactive. Here are some examples:\n",
    "```python\n",
    "import streamlit as st\n",
    "\n",
    "st.title('Interactive Widgets')\n",
    "\n",
    "name = st.text_input('Enter your name:')\n",
    "st.write(f'Hello, {name}!')\n",
    "\n",
    "age = st.slider('Select your age:', 0, 100, 25)\n",
    "st.write(f'You are {age} years old.')\n",
    "```\n",
    "\n",
    "This code creates a text input widget and a slider widget. The values entered by the user are used by the app."
   ]
  },
  {
   "cell_type": "markdown",
   "metadata": {
    "tags": [
     "en"
    ]
   },
   "source": [
    "## Displaying Data\n",
    "\n",
    "Streamlit makes it easy to display data in various formats. Here are some examples:\n"
   ]
  },
  {
   "cell_type": "markdown",
   "metadata": {},
   "source": [
    "```python\n",
    "import streamlit as st\n",
    "import pandas as pd\n",
    "import numpy as np\n",
    "\n",
    "st.title('Displaying Data')\n",
    "\n",
    "# Display a DataFrame\n",
    "df = pd.DataFrame(\n",
    "    np.random.randn(10, 5),\n",
    "    columns=('col %d' % i for i in range(5)))\n",
    "st.write(df)\n",
    "\n",
    "# Display a chart\n",
    "st.line_chart(df)\n",
    "```"
   ]
  },
  {
   "cell_type": "markdown",
   "metadata": {
    "tags": [
     "en"
    ]
   },
   "source": [
    "## Publish your app online\n",
    "\n",
    "When your app is finished, you can upload it to https://streamlit.io/. First, create an account, push the app to GitHub, and connect the two accounts. Choose which repository contains the app and deploy it. After a short while, your app should be available online."
   ]
  }
 ],
 "metadata": {
  "kernelspec": {
   "display_name": "Python 3",
   "language": "python",
   "name": "python3"
  },
  "language_info": {
   "codemirror_mode": {
    "name": "ipython",
    "version": 3
   },
   "file_extension": ".py",
   "mimetype": "text/x-python",
   "name": "python",
   "nbconvert_exporter": "python",
   "pygments_lexer": "ipython3",
   "version": "3.8.5"
  }
 },
 "nbformat": 4,
 "nbformat_minor": 4
}
