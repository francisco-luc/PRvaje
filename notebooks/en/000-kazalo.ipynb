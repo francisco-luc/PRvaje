{
 "cells": [
  {
   "cell_type": "markdown",
   "metadata": {
    "tags": [
     "en"
    ]
   },
   "source": [
    "# Data Mining Exercises\n",
    "\n",
    "Rok Gomišček, Martin Stražar, Tomaž Curk  \n",
    "2024, University of Ljubljana, Faculty of Computer and Information Science"
   ]
  },
  {
   "cell_type": "markdown",
   "metadata": {
    "tags": [
     "en"
    ]
   },
   "source": [
    "## Work environment\n",
    "\n",
    "* [Setup](001-namestitev.ipynb)\n",
    "* [Git and github](002-git_in_github.ipynb)\n",
    "* [Homework submission](300-domace_naloge.ipynb)\n",
    "\n",
    "\n",
    "## 1. Data preparation\n",
    "\n",
    "* [Library `numpy`](101-1_numpy.ipynb)\n",
    "* [Library `pandas`](101-2_pandas.ipynb)\n",
    "\n",
    "\n",
    "## 2. Plotting data\n",
    "\n",
    "* [Library matplotlib](102-1_prikaz_matplotlib.ipynb)\n",
    "* [Example: Temperatures in Stockholm](102-2_podatki_temperatura.ipynb)\n",
    "* [Example: Winter Olympics, Sochi 2014](102-3_prikaz_olimpijske.ipynb)\n",
    "\n",
    "\n",
    "## 3. Hugging Face and Streamlit\n",
    "\n",
    "* [Hugging Face](103-1_huggingface.ipynb)\n",
    "* [Streamlit](103-2_streamlit.ipynb)\n",
    "\n",
    "\n",
    "## 3. Distributions and outliers\n",
    "\n",
    "* [Distributions and outliers](103-1_porazdelitve.ipynb)\n",
    "* [Example: finding unfunny jokes](103-2_osamelci.ipynb)\n",
    "\n",
    "\n",
    "## 4. [Clustering](104-1_grucenje_voditelji.ipynb)\n",
    "\n",
    "* [K-means clustering](104-1_grucenje_voditelji.ipynb#Metoda-voditeljev)\n",
    "* [Hierarchical clustering](104-2_grucenje_hierarhicno.ipynb)\n",
    "* [Example: genomic data](104-3_grucenje_genomski.ipynb)\n",
    "\n",
    "\n",
    "## 5. [Supervised learning](105-1_nadzorovano_linreg.ipynb)\n",
    "\n",
    "* [Linear regression](105-1_nadzorovano_linreg.ipynb#Linearna-regresija)\n",
    "* [Naive Bayes classifier](105-2_nadzorovano_naivniBayes.ipynb)\n",
    "* [Orange for classification](105-3_nadzorovano_vrednotenje.ipynb)\n",
    "* [Orange for regression](105-4_ocenjevanje_regresija.ipynb)\n",
    "* [Classification rules](105-5_klasifikacijska_pravila.ipynb)\n",
    "* [Example: timetable](105-6_urnik.ipynb)\n",
    "\n",
    "## 6. [Non-negative matrix factorization and recommender systems](106-1_NMF.ipynb)\n",
    "\n",
    "\n",
    "## 7. [Networks](107-1_omrezja_networkx.ipynb)\n",
    "\n",
    "* [Library `networkx`](107-1_omrezja_networkx.ipynb#Knjižica-networkx)\n",
    "* [Example: emails network](107-2_omrezja_email.ipynb)\n",
    "\n",
    "\n",
    "## 8. [Data series](108-1_zaporedja_HMM.ipynb)\n",
    "* [Hidden Markov Models](108-1_zaporedja_HMM.ipynb#Skriti-Markovi-modeli)\n",
    "* [Time series](108-2_zaporedja_casovne.ipynb)\n",
    "* [Predicting trends](108-3_zaporedja_trendi.ipynb)\n",
    "\n",
    "\n",
    "## Assignments\n",
    "\n",
    "* [Data preparation, basic statistics and visualization](301-priprava_pregled.ipynb)\n",
    "* [Search for structure in data](302-struktura_podatkov.ipynb)\n",
    "* [Predicting values](303-nadzorovano_ucenje.ipynb)\n",
    "* [Predicting by matrix factorization](304-matricna_faktorizacija.ipynb)\n",
    "* [Implementation of a recommendation system](305-aplikacija.ipynb)\n",
    "\n",
    "\n",
    "## [Literature](900-lit.ipynb)"
   ]
  }
 ],
 "metadata": {
  "kernelspec": {
   "display_name": "Python 3",
   "language": "python",
   "name": "python3"
  },
  "language_info": {
   "codemirror_mode": {
    "name": "ipython",
    "version": 3
   },
   "file_extension": ".py",
   "mimetype": "text/x-python",
   "name": "python",
   "nbconvert_exporter": "python",
   "pygments_lexer": "ipython3",
   "version": "3.6.9"
  },
  "latex_envs": {
   "LaTeX_envs_menu_present": true,
   "autocomplete": true,
   "bibliofile": "biblio.bib",
   "cite_by": "apalike",
   "current_citInitial": 1,
   "eqLabelWithNumbers": true,
   "eqNumInitial": 1,
   "hotkeys": {
    "equation": "Ctrl-E",
    "itemize": "Ctrl-I"
   },
   "labels_anchors": false,
   "latex_user_defs": false,
   "report_style_numbering": false,
   "user_envs_cfg": false
  },
  "nbTranslate": {
   "displayLangs": [
    "sl"
   ],
   "hotkey": "alt-t",
   "langInMainMenu": true,
   "sourceLang": "sl",
   "targetLang": "en",
   "useGoogleTranslate": true
  },
  "toc": {
   "nav_menu": {},
   "number_sections": false,
   "sideBar": true,
   "skip_h1_title": false,
   "toc_cell": false,
   "toc_position": {
    "height": "1143px",
    "left": "0px",
    "right": "1196px",
    "top": "158px",
    "width": "212px"
   },
   "toc_section_display": "block",
   "toc_window_display": false
  }
 },
 "nbformat": 4,
 "nbformat_minor": 2
}
