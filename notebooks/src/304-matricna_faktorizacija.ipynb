{
  "cells": [
    {
      "cell_type": "markdown",
      "metadata": {
        "tags": [
          "sl"
        ]
      },
      "source": [
        "## Uporaba matri\u010dne faktorizacije za napovedovanje\n",
        "\n",
        "Podatkovno rudarjenje, naloga, `<VPI\u0160I DATUM ODDAJE>`  \n",
        "**`<VPI\u0160I Ime in priimek>`**"
      ]
    },
    {
      "cell_type": "markdown",
      "metadata": {
        "tags": [
          "en"
        ]
      },
      "source": [
        "## Predicting by matrix factorization\n",
        "\n",
        "Data mining, assignment, `<INSERT DATE>`  \n",
        "**`<INSERT Name and surname>`**"
      ]
    },
    {
      "cell_type": "markdown",
      "metadata": {},
      "source": [
        "V prej\u0161nji doma\u010di nalogi smo uporabili metode nadzorovanega modeliranja\n",
        "na problemu napovedovanja ocen neocenjenih filmov. Ker smo za vsakega\n",
        "od $m$ uporabnikov zgradili svoj model, dobimo $m$ modelov, ki si med seboj\n",
        "ne delijo nobene informacije. \n",
        "\n",
        "Metode matri\u010dne faktorizacije so pomemben gradnik sodobnih priporo\u010dilnih sistemov.\n",
        "Omogo\u010dajo nam, da vsakega uporabnika in vsak izdelek (film) modeliramo\n",
        "s pomo\u010djo $r$ regresijskih modelov, kar vodi v enoten model, ki omogo\u010da napoved \n",
        "ocene za poljubno kombinacijo uporabnika in filma.\n",
        "\n",
        "Model \\emph{matri\u010dne faktorizacije} matriko podatkov $X \\in \\mathbb{R}^{m \\times n}$\n",
        "oceni s produktov dveh matrik ni\u017ejega ranga  $W \\in \\mathbb{R}^{m \\times r}$ in \n",
        "$H \\in \\mathbb{R}^{n \\times r}$, tako da\n",
        "\\begin{equation}\n",
        "    X = WH^T + E\n",
        "\\end{equation}\n",
        "kjer je $E \\in \\mathbb{R}^{m \\times n}$ matrika napak oz. ostankov. Matriki modela $W$ in $H$ lahko poi\u0161\u010demo\n",
        "tudi, \u010de nekatere vrednosti v $X$ niso znane, kar velja za priporo\u010dilne sisteme.\n",
        "Model omogo\u010da \\emph{napoved} vseh omenjenih neznanih vrednosti.\n",
        "\n",
        "\n",
        "Vrednotenje priporo\u010dilnih sistemov se razlikuje od obi\u010dajnih regresijskih\n",
        "modelov, saj na napovedne vrednosti gledamo kot na \\emph{seznam priporo\u010dil},\n",
        "kjer nas zanima samo nekaj vrhnjih elementov tega seznama oz. ali se\n",
        "med njimi nahajajo relevantna priporo\u010dila."
      ]
    },
    {
      "cell_type": "markdown",
      "metadata": {},
      "source": [
        "### Podatki\n",
        "\n",
        "Opis podatkovne zbirke MovieLens 1996-2016 ostaja enak \\href{https://ucilnica.fri.uni-lj.si/pluginfile.php/30429/mod\\_assign/intro/PR2015-2016\\_DN1.pdf}{prvi nalogi}."
      ]
    },
    {
      "cell_type": "markdown",
      "metadata": {},
      "source": [
        "### Predpriprava podatkov\n",
        "\n",
        "Za potrebe te naloge podatke pripravite na naslednji na\u010din:\n",
        "\\begin{enumerate}\n",
        "    \\item Izberite $n$ filmov, ki imajo vsaj 20 ocen. \n",
        "    \\item Izberite $m$ uporabnikov, ki je ocenilo vsaj 20 filmov. Upo\u0161tevajte samo filme, izbrane v prej\u0161njem koraku.\n",
        "    \\item Sestavite matriko $X$ velikosti $m \\times n$ (v vsaki vrstici vsebuje vsaj 20 ocen).\n",
        "\\end{enumerate}\n",
        "\n",
        "\\noindent Nato sestavite u\u010dno in testno mno\u017eico, kot je prikazano na\n",
        "sliki. Za vsakega uporabnika (vrstico v $X$) izberite $k$\n",
        "(npr. $k=5$) visoko ocenjenih filmov (z ocenami 5 ali 4). U\u010dno matriko\n",
        "$X_U$ sestavite tako, da izbrane filme odstranite, in jih shranite v\n",
        "testno matriko $X_T$."
      ]
    },
    {
      "cell_type": "markdown",
      "metadata": {},
      "source": [
        "<img src=\"slike/nmf-shema.pdf\" width=600/>"
      ]
    },
    {
      "cell_type": "markdown",
      "metadata": {},
      "source": [
        "### Vpra\u0161anja\n",
        "\n",
        "\\begin{enumerate}\n",
        "\n",
        "\\item (30 \\%) Dokon\u010dajte implementacijo modela NMF, predstavljenega na laboratorijskih vajah.\n",
        "    Pri izra\u010dunu gradienta (odvoda) za vsako spremenljivko upo\u0161tevajte samo znane ocene.\n",
        "    Na kratko opi\u0161ite, kateri parametri vplivajo na u\u010denje modela in kako? Kak\u0161ne kompromise\n",
        "    predstavljajo?\n",
        "\n",
        "\\item (50 \\%) Sestavite u\u010dno in testno mno\u017eico v skladu z opisom na Sliki~\\ref{f:nmf-shema}a.\n",
        "    Za vsakega uporabnika naklju\u010dno odstranite $k=5$ visoko ocenjenih filmov (z ocenami 4 ali 5).\n",
        "    Omenjeni filmi predstavljajo \\emph{testno mno\u017eco}.\n",
        "\n",
        "    S pomo\u010djo algoritma poi\u0161\u010dite matriki $W$ in $H$, ki modelirata u\u010dno matriko $X_U$,\n",
        "    kot je prikazano na Sliki~\\ref{f:nmf-shema}b.\n",
        "\n",
        "    Za vsakega uporabnika $i$ nato napovejte ocene za vse neocenjene filme. Vektor\n",
        "    ocen pretvorite v seznam priporo\u010dil tako, da ocene uredite po padajo\u010dem vrstnem \n",
        "    redu (vi\u0161je napovedane ocene se nahajajo v vrhu seznama). Postopek je prikazan\n",
        "    na Sliki~\\ref{f:nmf-shema}c.\n",
        "\n",
        "    Ocenite, ali se filmi, ki ste jih odstranili za uporabnika $i$ v povpre\u010dju\n",
        "    pojavljajo bli\u017eje vrhu seznama, kot bi to pri\u010dakovali po naklju\u010dju. Na ta na\u010din\n",
        "    ugotovite, ali model smiselno priporo\u010da filme. Opi\u0161ite, kako ste izvedli\n",
        "    postopek vrednotenja in komentirajte rezultate.\n",
        "\n",
        "\\item (20 \\%) Kako parametri modela NMF vplivajo na uspe\u0161nost napovedi? Preizkusite\n",
        "    npr. nekaj razli\u010dnih vrednosti za rang ($r$) matrik $W$ in $H$ in preverite,\n",
        "    kako razli\u010dne nastavitve vplivajo na napoved.\n",
        "\n",
        "\n",
        "\\item (Bonus 10 \\%) Ustvarite novega uporabnika, ki predstavlja va\u0161e ocene\n",
        "filmov. Ocenite nekaj filmov po lastnem okusu in ponovite analizo. \n",
        "Komentirajte ustreznost predlogov.\n",
        "\n",
        "\\end{enumerate}"
      ]
    },
    {
      "cell_type": "markdown",
      "metadata": {},
      "source": [
        "### Zapiski\n",
        "Pri implementaciji, uporabi in opisu algoritma za re\u0161evanje matri\u010dne faktorizacije si lahko pomagate\n",
        "z zapiski laboratorijskih vaj, ki jih najdete \\href{https://ucilnica.fri.uni-lj.si/mod/resource/view.php?id=14798}{na spletni u\u010dilnici}."
      ]
    },
    {
      "cell_type": "markdown",
      "metadata": {},
      "source": [
        "### Viri\n",
        "\n",
        "\\begin{enumerate}\n",
        "\\item Y. Koren, R. Bell, and C. Volinsky, \u201cMatrix factorization techniques for recommender systems,\u201d Computer (Long. Beach. Calif)., no. 8, pp. 30\u201337, 2009. \\href{https://ucilnica.fri.uni-lj.si/mod/resource/view.php?id=12421}{[Povezava]}.\n",
        "\\end{enumerate}"
      ]
    }
  ],
  "metadata": {
    "kernelspec": {
      "display_name": "Python 3",
      "language": "python",
      "name": "python3"
    },
    "language_info": {
      "codemirror_mode": {
        "name": "ipython",
        "version": 3
      },
      "file_extension": ".py",
      "mimetype": "text/x-python",
      "name": "python",
      "nbconvert_exporter": "python",
      "pygments_lexer": "ipython3",
      "version": "3.6.9"
    },
    "latex_envs": {
      "LaTeX_envs_menu_present": true,
      "autocomplete": true,
      "bibliofile": "biblio.bib",
      "cite_by": "apalike",
      "current_citInitial": 1,
      "eqLabelWithNumbers": true,
      "eqNumInitial": 1,
      "hotkeys": {
        "equation": "Ctrl-E",
        "itemize": "Ctrl-I"
      },
      "labels_anchors": false,
      "latex_user_defs": false,
      "report_style_numbering": false,
      "user_envs_cfg": false
    },
    "nbTranslate": {
      "displayLangs": [
        "sl"
      ],
      "hotkey": "alt-t",
      "langInMainMenu": true,
      "sourceLang": "sl",
      "targetLang": "en",
      "useGoogleTranslate": true
    }
  },
  "nbformat": 4,
  "nbformat_minor": 2
}