{
  "cells": [
    {
      "cell_type": "markdown",
      "metadata": {
        "tags": [
          "sl"
        ]
      },
      "source": [
        "## Napovedovanje vrednosti\n",
        "\n",
        "Podatkovno rudarjenje, naloga, `<VPI\u0160I DATUM ODDAJE>`  \n",
        "**`<VPI\u0160I Ime in priimek>`**"
      ]
    },
    {
      "cell_type": "markdown",
      "metadata": {
        "tags": [
          "en"
        ]
      },
      "source": [
        "## Predicting values\n",
        "\n",
        "Data mining, assignment, `<INSERT DATE>`  \n",
        "**`<INSERT Name and surname>`**"
      ]
    },
    {
      "cell_type": "markdown",
      "metadata": {
        "tags": [
          "sl"
        ]
      },
      "source": [
        "Spoznali bomo prakti\u010dno uporabo enostavnih metod nadzorovanega modeliranja oz.\n",
        "napovedovanja.  Skupna lastnost vseh omenjenih metod je, da s pomo\u010djo\n",
        "naklju\u010dnih spremenljivk (atributov) modelirajo vrednosti posebne spremenljivke,\n",
        "ki ji pravimo *razred* (v kontekstu uvr\u0161\u010danja v razrede, klasifikacije)\n",
        "ali *odziv* (v kontekstu regresije). Osnovne razlike med kontekstoma smo\n",
        "spoznali na predavanjih in vajah.\n",
        "\n",
        "Prakti\u010dna cilja, ki ju bomo zasledovali sta:\n",
        "* modeliranje ocen posameznega uporabnika (odziva) s pomo\u010djo vseh ostalih uporabnikov,\n",
        "* primerjava metod nadzorovanega modeliranja."
      ]
    },
    {
      "cell_type": "markdown",
      "metadata": {
        "tags": [
          "en"
        ]
      },
      "source": [
        "We will get to know the practical use of simple methods of supervised modeling or forecasting. The common property of all of these methods is that with the help of random variables (attributes) they model the values of a specific variable,\n",
        "which we call *class* (in the context of classifying, classifying)\n",
        "or *response* (in the context of regression). We learnt about the basic differences between contexts in lectures and tutorials.\n",
        "\n",
        "The practical goals we will pursue are:\n",
        "* modeling of individual user's responses (responses) with the help of all other users,\n",
        "* Comparison of supervised modeling methods."
      ]
    },
    {
      "cell_type": "markdown",
      "metadata": {
        "tags": [
          "sl"
        ]
      },
      "source": [
        "### Podatki\n",
        "\n",
        "Opis podatkovne zbirke MovieLens ostaja enak prvi nalogi."
      ]
    },
    {
      "cell_type": "markdown",
      "metadata": {
        "tags": [
          "en"
        ]
      },
      "source": [
        "### Data\n",
        "\n",
        "The description of the MovieLens database remains the same as for the first assignment."
      ]
    },
    {
      "cell_type": "markdown",
      "metadata": {
        "tags": [
          "sl"
        ]
      },
      "source": [
        "### Predpriprava podatkov\n",
        "\n",
        "Za potrebe te naloge bomo podatke pripravili na naslednji na\u010din:\n",
        "1. Izberi $m$ filmov z vsaj 100 ogledi.\n",
        "2. Izberi $n$ uporabnikov, ki si je ogledalo vsaj 100 filmov.\n",
        "3. Pripravi matriko $X$ velikosti $m \\times n$, kjer vrstice predstavljajo filme, stolpci pa uporabnike. Neznane vrednosti zamenjaj z $0$.\n",
        "\n",
        "Za vsakega od izbranih $n$ uporabnikov bo zgrajen regresijski model, \n",
        "katerega cilj bo napoved ocen za filme. "
      ]
    },
    {
      "cell_type": "markdown",
      "metadata": {
        "tags": [
          "en"
        ]
      },
      "source": [
        "### Preparation of data\n",
        "\n",
        "For the purposes of this task we will prepare the data as follows:\n",
        "1. Select $m$ movies with at least 100 views.\n",
        "2. Select $n$ users who have watched at least 100 movies.\n",
        "3. Prepare matrix $X$ in the size of $m \\times n$, where the lines represent movies and columns represent users. Replace unknown values with $0$.\n",
        "\n",
        "For each of the selected $n$ users, a regression model will be built, which aims to predict film ratings."
      ]
    },
    {
      "cell_type": "markdown",
      "metadata": {},
      "source": [
        "<table>\n",
        "    <tr style=\"background-color: white;\">\n",
        "        <td style=\"border-right: 1px solid #000;\"></td>\n",
        "        <td></td>\n",
        "        <td style=\"border-right: 1px solid #000; border-left: 1px solid #000;\">$y^{(0)}$</td>\n",
        "        <td colspan=3 style=\"text-align:center;\">$X^{(0)}$</td>\n",
        "    </tr>\n",
        "    <tr style=\"border-bottom: 1px solid #000;\">\n",
        "        <td style=\"border-right: 1px solid #000;\"></td>\n",
        "        <td>Film/uporabnik</td>\n",
        "        <td style=\"border-right: 1px solid #000; border-left: 1px solid #000;\">$u_0$</td>\n",
        "        <td>$u_1$</td>\n",
        "        <td>$u_2$</td>\n",
        "        <td>$\\cdots$</td>\n",
        "    </tr>\n",
        "    <tr>\n",
        "        <td style=\"border-right: 1px solid #000;\">${f_1}$</td>\n",
        "        <td>Twelve Monkeys (a.k.a. 12 Monkeys) (1995)</td>\n",
        "        <td style=\"border-right: 1px solid #000; border-left: 1px solid #000;\">0</td>\n",
        "        <td>0</td>\n",
        "        <td>2.5</td>\n",
        "        <td>$\\cdots$</td>\n",
        "    </tr>\n",
        "    <tr>\n",
        "        <td style=\"border-right: 1px solid #000;\">${f_2}$</td>\n",
        "        <td>Dances with  Wolves (1990) </td>\n",
        "        <td style=\"border-right: 1px solid #000; border-left: 1px solid #000;\">4</td>\n",
        "        <td>0</td>\n",
        "        <td>0</td>\n",
        "        <td>$\\cdots$</td>\n",
        "    </tr>\n",
        "    <tr>\n",
        "        <td style=\"border-right: 1px solid #000;\">${f_3}$</td>\n",
        "        <td>Apollo 13 (1995)</td>\n",
        "        <td style=\"border-right: 1px solid #000; border-left: 1px solid #000;\">0</td>\n",
        "        <td>2</td>\n",
        "        <td>0</td>\n",
        "        <td>$\\cdots$</td>\n",
        "    </tr>\n",
        "    <tr>\n",
        "        <td style=\"border-right: 1px solid #000;\">${f_4}$</td>\n",
        "        <td>Sixth Sense, The (1999)</td><td style=\"border-right: 1px solid #000; border-left: 1px solid #000;\">3</td>\n",
        "        <td>0</td>\n",
        "        <td>4</td>\n",
        "        <td>$\\cdots$</td>\n",
        "    </tr>\n",
        "    <tr>\n",
        "        <td style=\"border-right: 1px solid #000;\">$\\cdots$</td>\n",
        "        <td>$\\cdots$</td>\n",
        "        <td style=\"border-right: 1px solid #000; border-left: 1px solid #000;\">$\\cdots$</td>\n",
        "        <td>$\\cdots$</td>\n",
        "        <td>$\\cdots$</td>\n",
        "        <td>$\\cdots$</td>\n",
        "    </tr>\n",
        "</table>\n",
        "\n",
        "<table>\n",
        "    <tr style=\"background-color: white;\">\n",
        "        <td style=\"border-right: 1px solid #000;\"></td>\n",
        "        <td></td>\n",
        "        <td style=\"border-right: 1px solid #000; border-left: 1px solid #000;\">$y^{(1)}$</td>\n",
        "        <td colspan=3 style=\"text-align:center;\">$X^{(1)}$</td>\n",
        "    </tr>\n",
        "    <tr style=\"border-bottom: 1px solid #000;\">\n",
        "        <td style=\"border-right: 1px solid #000;\"></td>\n",
        "        <td>Film/uporabnik</td>\n",
        "        <td style=\"border-right: 1px solid #000; border-left: 1px solid #000;\">$u_1$</td>\n",
        "        <td>$u_0$</td>\n",
        "        <td>$u_2$</td>\n",
        "        <td>$\\cdots$</td>\n",
        "    </tr>\n",
        "    <tr>\n",
        "        <td style=\"border-right: 1px solid #000;\">${f_1}$</td>\n",
        "        <td>Twelve Monkeys (a.k.a. 12 Monkeys) (1995)</td>\n",
        "        <td style=\"border-right: 1px solid #000; border-left: 1px solid #000;\">0</td>\n",
        "        <td>0</td>\n",
        "        <td>2.5</td>\n",
        "        <td>$\\cdots$</td>\n",
        "    </tr>\n",
        "    <tr>\n",
        "        <td style=\"border-right: 1px solid #000;\">${f_2}$</td>\n",
        "        <td>Dances with  Wolves (1990) </td>\n",
        "        <td style=\"border-right: 1px solid #000; border-left: 1px solid #000;\">0</td>\n",
        "        <td>4</td>\n",
        "        <td>0</td>\n",
        "        <td>$\\cdots$</td>\n",
        "    </tr>\n",
        "    <tr>\n",
        "        <td style=\"border-right: 1px solid #000;\">${f_3}$</td>\n",
        "        <td>Apollo 13 (1995)</td>\n",
        "        <td style=\"border-right: 1px solid #000; border-left: 1px solid #000;\">2</td>\n",
        "        <td>0</td>\n",
        "        <td>0</td>\n",
        "        <td>$\\cdots$</td>\n",
        "    </tr>\n",
        "    <tr>\n",
        "        <td style=\"border-right: 1px solid #000;\">${f_4}$</td>\n",
        "        <td>Sixth Sense, The (1999)</td><td style=\"border-right: 1px solid #000; border-left: 1px solid #000;\">0</td>\n",
        "        <td>3</td>\n",
        "        <td>4</td>\n",
        "        <td>$\\cdots$</td>\n",
        "    </tr>\n",
        "    <tr>\n",
        "        <td style=\"border-right: 1px solid #000;\">$\\cdots$</td>\n",
        "        <td>$\\cdots$</td>\n",
        "        <td style=\"border-right: 1px solid #000; border-left: 1px solid #000;\">$\\cdots$</td>\n",
        "        <td>$\\cdots$</td>\n",
        "        <td>$\\cdots$</td>\n",
        "        <td>$\\cdots$</td>\n",
        "    </tr>\n",
        "</table>"
      ]
    },
    {
      "cell_type": "markdown",
      "metadata": {
        "tags": [
          "sl"
        ]
      },
      "source": [
        "Razdelitev podatkov za model uporabnika $u_0$ (zgorja matrika) in uporabnika $u_1$ (spodaj matrika)."
      ]
    },
    {
      "cell_type": "markdown",
      "metadata": {
        "tags": [
          "en"
        ]
      },
      "source": [
        "Data distribution for the model user $u_0$ (top matrix) and the user $u_1$ (bottom matrix)."
      ]
    },
    {
      "cell_type": "markdown",
      "metadata": {
        "tags": [
          "sl"
        ]
      },
      "source": [
        "### Vpra\u0161anja"
      ]
    },
    {
      "cell_type": "markdown",
      "metadata": {
        "tags": [
          "sl"
        ]
      },
      "source": [
        "#### 1. Regresija (100%) \n",
        "Za vsakega uporabnika postavite regresijski model. Uporabite eno ali ve\u010d metod za u\u010denje regresijskih modelov (linearna regresija, Ridge, Lasso, itd.).\n",
        "\n",
        "Za vsakega od $n$ uporabnikov izberite ustrezni stolpec v matriki podatkov. Za uporabnika $i$ imamo torej:\n",
        "\n",
        "* Vektor odziva $y^{(i)}$,\n",
        "* Matriko podatkov $X^{(i)}$, ki vsebuje vse stolpce *razen* $i$.\n",
        "    \n",
        "Za la\u017ejo predstavo si oglej zgornji tabeli. Nekajkrat (npr., trikrat) ponovite postopek preverjanja s pomo\u010djo u\u010dne in testne mno\u017eice:\n",
        "\n",
        "\n",
        "* Mno\u017eico filmov, ki si jih je uporabnik ogledal, *naklju\u010dno* razdelite v razmerju 75% (u\u010dna mno\u017eica) in 25% (testna mno\u017eica).\n",
        "* Nau\u010dite regresijski model na u\u010dni mno\u017eici (izberite ustrezne vrstice v $X$ in $y$).\n",
        "* Ovrednotite model na testni mno\u017eici (ponovno izberite ustrezne vrstice v $X$ in $y$).\n",
        "\n",
        "Oceno vrednotenja nato delite s \u0161tevilom poizkusov, da dobite kon\u010dno oceno.\n",
        "\n",
        "Poro\u010dajte o uspe\u0161nosti va\u0161ega modela. Pri tem se osredoto\u010dite na naslednja vpra\u0161anja:\n",
        "* Utemeljite ustrezno mero vrednotenja. Ali model dobro napoveduje ocene?\n",
        "* Z izbrano mero ocenite modele za vseh $n$ uporabnikov.\n",
        "\n",
        "Kodo za odgovore lahko razdelite v ve\u010d celic."
      ]
    },
    {
      "cell_type": "markdown",
      "metadata": {
        "tags": [
          "en"
        ]
      },
      "source": [
        "### Questions"
      ]
    },
    {
      "cell_type": "markdown",
      "metadata": {
        "tags": [
          "en"
        ]
      },
      "source": [
        "#### 1. Regression (100%)\n",
        "Set up a regression model for each user. Use one or more methods for learning regression models (linear regression, Ridge, Lasso, etc.).\n",
        "\n",
        "For each of the $n$ users, select the appropriate column in the data matrix. Therefore, fot the $i$ user we have:\n",
        "\n",
        "* Response vector $y^{(i)}$,\n",
        "* Data matrix $X^{(i)}$ containing all columns *except* $i$.\n",
        "\u00a0\u00a0\u00a0\u00a0\n",
        "For an easier understanding see the above tables. Repeat the test procedure several times (e.g., three times) with the help of the learning and test sets:\n",
        "\n",
        "* Divide the films that the user viewed *randomly* into 75% (learning set) and 25% (test set).\n",
        "* Learn the regression model on learning set (select the appropriate rows in $X$ and $y$).\n",
        "* Evaluate the model on the test set (select the appropriate rows in $X$ and $y$).\n",
        "\n",
        "Then divide the evaluation score with the number of experiments to get the final score.\n",
        "\n",
        "Report on the performance of your model. Focus on the following questions:\n",
        "\n",
        "* Justify an appropriate evaluation score. Does the predict the scores well?\n",
        "* Rate the models for all $n$ users with the selected evaluation score.\n",
        "\n",
        "You can split the code needed for each answer into multiple cells."
      ]
    },
    {
      "cell_type": "code",
      "execution_count": null,
      "metadata": {},
      "outputs": [],
      "source": []
    },
    {
      "cell_type": "markdown",
      "metadata": {
        "tags": [
          "sl"
        ]
      },
      "source": [
        "#### Bonus vpra\u0161anje (15%)\n",
        "Ustvarite novega uporabnika, ki predstavlja va\u0161e ocene\n",
        "filmov. Ocenite nekaj filmov po lastnem okusu in preverite, kako modeli ocenijo neizbrane filme.\n",
        "Ali se vam zdijo napovedi primerne?\n",
        "\n",
        "Kodo za odgovore lahko razdelite v ve\u010d celic."
      ]
    },
    {
      "cell_type": "markdown",
      "metadata": {
        "tags": [
          "en"
        ]
      },
      "source": [
        "#### Bonus question (15%)\n",
        "Create a new user who represents your movie ratings. Rate some movies after your own taste and see how models \n",
        "evaluate non-selected movies. Do you find the predictions appropriate?\n",
        "\n",
        "You can split the code needed for each answer into multiple cells."
      ]
    },
    {
      "cell_type": "code",
      "execution_count": null,
      "metadata": {
        "hide_input": false
      },
      "outputs": [],
      "source": []
    },
    {
      "cell_type": "markdown",
      "metadata": {
        "tags": [
          "sl"
        ]
      },
      "source": [
        "### Zapiski\n",
        "\n",
        "Implementacijo, opis in vrednotenje metod za nadzorovanjo u\u010denje vsebujejo knji\u017enice `sklearn` ali `Orange`."
      ]
    },
    {
      "cell_type": "markdown",
      "metadata": {
        "tags": [
          "en"
        ]
      },
      "source": [
        "### Notes\n",
        "\n",
        "Implementation, description, and evaluation of supervised learning methods are included in libraries `skleaarn` or` Orange`."
      ]
    }
  ],
  "metadata": {
    "kernelspec": {
      "display_name": "Python 3",
      "language": "python",
      "name": "python3"
    },
    "language_info": {
      "codemirror_mode": {
        "name": "ipython",
        "version": 3
      },
      "file_extension": ".py",
      "mimetype": "text/x-python",
      "name": "python",
      "nbconvert_exporter": "python",
      "pygments_lexer": "ipython3",
      "version": "3.6.9"
    },
    "latex_envs": {
      "LaTeX_envs_menu_present": true,
      "autocomplete": true,
      "bibliofile": "biblio.bib",
      "cite_by": "apalike",
      "current_citInitial": 1,
      "eqLabelWithNumbers": true,
      "eqNumInitial": 1,
      "hotkeys": {
        "equation": "Ctrl-E",
        "itemize": "Ctrl-I"
      },
      "labels_anchors": false,
      "latex_user_defs": false,
      "report_style_numbering": false,
      "user_envs_cfg": false
    },
    "nbTranslate": {
      "displayLangs": [
        "sl"
      ],
      "hotkey": "alt-t",
      "langInMainMenu": true,
      "sourceLang": "sl",
      "targetLang": "en",
      "useGoogleTranslate": true
    }
  },
  "nbformat": 4,
  "nbformat_minor": 2
}