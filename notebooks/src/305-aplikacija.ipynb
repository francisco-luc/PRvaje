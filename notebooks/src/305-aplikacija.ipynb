{
  "cells": [
    {
      "cell_type": "markdown",
      "metadata": {
        "tags": [
          "sl"
        ]
      },
      "source": [
        "## Implementacija priporo\u010dilnega sistema\n",
        "\n",
        "Podatkovno rudarjenje, naloga, `<VPI\u0160I DATUM ODDAJE>`  \n",
        "**`<VPI\u0160I Ime in priimek>`**"
      ]
    },
    {
      "cell_type": "markdown",
      "metadata": {
        "tags": [
          "en"
        ]
      },
      "source": [
        "## Implementation of a recommendation system\n",
        "\n",
        "Data mining, assignment, `<VPI\u0160I DATUM ODDAJE>`  \n",
        "**`<VPI\u0160I Ime in priimek>`**"
      ]
    },
    {
      "cell_type": "markdown",
      "metadata": {
        "tags": [
          "sl"
        ]
      },
      "source": [
        "Aplikacija naj zdru\u017euje vse pridobljeno znanje. Implementirana naj bo s poljubno tehnologijo in omogo\u010dala prijavo novega uporabnika, ocenjevanje filmov ter priporo\u010danje \u0161e ne ocenjenih filmov."
      ]
    },
    {
      "cell_type": "markdown",
      "metadata": {
        "tags": [
          "en"
        ]
      },
      "source": [
        "Develop an application in which you combine all the acquired knowledge. The application should be implemented using any technology and it should allow the new user to sign in, evaluate movies and recommend not yet rated films."
      ]
    },
    {
      "cell_type": "markdown",
      "metadata": {
        "tags": [
          "sl"
        ]
      },
      "source": [
        "### Podatki\n",
        "\n",
        "Opis podatkovne zbirke MovieLens ostaja enak prvi nalogi."
      ]
    },
    {
      "cell_type": "markdown",
      "metadata": {
        "tags": [
          "en"
        ]
      },
      "source": [
        "### Data\n",
        "\n",
        "The description of the MovieLens database remains the same as for the first assignment."
      ]
    },
    {
      "cell_type": "markdown",
      "metadata": {
        "tags": [
          "sl"
        ]
      },
      "source": [
        "### Vpra\u0161anja\n",
        "\n",
        "#### 1.  Prototip (100%)\n",
        "\n",
        "Implementirajte prototip aplikacije priporo\u010dilnega sistema. Pri tem lahko uporabite poljubne metode podatkovnega rudarjenja. Povsod, kjer implementacija funkcijskih zahteve ni natan\u010dno dolo\u010dena, sami sprejmite odlo\u010ditve, potrebne za implementacijo. \n",
        "\n",
        "Aplikacija naj omogo\u010da naslednje funkcionalnosti:\n",
        "\n",
        "* Uporabni\u0161ki vmesnik. Po lastni izbiri na\u010drtujte preprost uporabni\u0161ki vmesnik. Vmesnik je lahko ukazna vrstica, grafi\u010dni vmesnik ali spletni vmesnik. Sistem naj bo mo\u017eno enostavno zagnati oz. naj bo dostopen za uporabo. Vmesnik omogo\u010da komunikacijo med uporabnikom in priporo\u010dilnim sistemom.\n",
        "\n",
        "* Prijava novega uporabnika. Sistem naj omogo\u010da dodajanje novih uporabnikov in vnos ocen preko uporabni\u0161kega vmesnika. Uporabnike lahko identificirate npr. z uporabni\u0161kimi imeni, \u0161tevilkami, ipd. Vnesene ocene se ob izhodu iz sistema shranijo in so upo\u0161tevane pri ponovnem zagonu. Uporabnik filme, ki so v podatkih, oceni z ocenami med 1 (nezadostno) in 5 (odli\u010dno).\n",
        "\n",
        "* Na zahtevo uporabnika generirajte spisek petih uporabniku najbolj ustreznih filmov, ki jih uporabnik \u0161e ni ocenil. Metoda za priporo\u010danje filmov je lahko izbrana iz mno\u017eice metod, ki smo jih spoznali v okviru predmeta (metode nadzorovanega modeliranja, matri\u010dna faktorizacija, ...) ali drugih. V poro\u010dilu opi\u0161ite, katero metodo uporabljate. \n",
        "\n",
        "#### Bonus vpra\u0161anje (20%)\n",
        "V aplikacijo dodajte razli\u010dne vizualizacije trenutnih podatkov, ki jih je mogo\u010de zagnati iz uporabni\u0161kega vmesnika. To lahko vklju\u010duje gru\u010de uporabnikov, trende razli\u010dnih \u017eanrov skozi \u010das, porazdelitve (povpre\u010dnih ocen), trenutno najpopularnej\u0161e filme, ipd.\n",
        "\n",
        "\n",
        "V poro\u010dilu opi\u0161ite primere za uporabo va\u0161e aplikacije - slike zaslona s spremnim besedilom oz. ukaze in rezultate, \u010de je vmesnik ukazna vrstica. Pri tem prika\u017eite najmanj en primer za vsako funkcionalnost, ki ste jo implementirali."
      ]
    },
    {
      "cell_type": "markdown",
      "metadata": {
        "tags": [
          "en"
        ]
      },
      "source": [
        "### Questions\n",
        "\n",
        "#### 1. Prototype (100%)\n",
        "\n",
        "Implement a prototype recommendation system. You can use any data mining method. Wherever the implementation of the functional requirements is not specified, you will take the decisions you need to implement yourself.\n",
        "\n",
        "The application should have the following functionalities:\n",
        "\n",
        "* User interface. Plan a simple user interface of your choice. The interface can be a command line, a graphical interface or a web interface. It should be easy to start the system and be accessible for use. The interface must support the communication between the user and the recommendation system.\n",
        "\n",
        "* Registering a new user. The system should allow to add new users and input ratings through the user interface. Users can be identified, for example, with usernames, numbers, etc. The entered ratings are saved when exiting the system and are used when restarted. The user rates the films in the data  with scores between 1 (insufficient) and 5 (excellent).\n",
        "\n",
        "* At the request of the user, generate a list of five most appropriate films that the user has not yet rated. The method for recommending films can be selected from a set of methods that we have learned during the course (methods of supervised modeling, matrix factorization, ...) or others. In the report, describe which method you are using.\n",
        "\n",
        "#### Bonus question (20%)\n",
        "Add different visualizations of the current data that can be started from the user interface to the application. This can include user clusters, trends of different genres over time, distribution (average ratings), currently the most popular movies, etc.\n",
        "\n",
        "Describe in the report the examples of using your application - a screen image with a text or commands and results if the interface is a command line. In doing so, display at least one example for each functionality that you have implemented."
      ]
    },
    {
      "cell_type": "markdown",
      "metadata": {
        "tags": [
          "sl"
        ]
      },
      "source": [
        "### Rezultati\n",
        "\n",
        "Delovanje aplikacije na kratko predstavite v poro\u010dilu.\n",
        "\n",
        "Rezultati naloge so:\n",
        "* poro\u010dilo, ki ga sestavljajo kratka navodila za uporabo aplikacije. Oddajte datoteko `.tex` in `.pdf` poro\u010dila,\n",
        "* izvorna koda programov (datoteke .ipynb, .py, ...)."
      ]
    },
    {
      "cell_type": "markdown",
      "metadata": {
        "tags": [
          "en"
        ]
      },
      "source": [
        "### Results\n",
        "\n",
        "Present your application briefly in a report.\n",
        "\n",
        "The results of the task are:\n",
        "* a report that consists of brief instructions for using the application. Submit the `.tex` and` .pdf` file of the report,\n",
        "* source code of your program (.ipynb, .py, ...)."
      ]
    }
  ],
  "metadata": {
    "kernelspec": {
      "display_name": "Python 3",
      "language": "python",
      "name": "python3"
    },
    "language_info": {
      "codemirror_mode": {
        "name": "ipython",
        "version": 3
      },
      "file_extension": ".py",
      "mimetype": "text/x-python",
      "name": "python",
      "nbconvert_exporter": "python",
      "pygments_lexer": "ipython3",
      "version": "3.8.6"
    },
    "latex_envs": {
      "LaTeX_envs_menu_present": true,
      "autoclose": false,
      "autocomplete": true,
      "bibliofile": "biblio.bib",
      "cite_by": "apalike",
      "current_citInitial": 1,
      "eqLabelWithNumbers": true,
      "eqNumInitial": 1,
      "hotkeys": {
        "equation": "Ctrl-E",
        "itemize": "Ctrl-I"
      },
      "labels_anchors": false,
      "latex_user_defs": false,
      "report_style_numbering": false,
      "user_envs_cfg": false
    },
    "nbTranslate": {
      "displayLangs": [
        "*"
      ],
      "hotkey": "alt-t",
      "langInMainMenu": true,
      "sourceLang": "sl",
      "targetLang": "en",
      "useGoogleTranslate": true
    }
  },
  "nbformat": 4,
  "nbformat_minor": 2
}