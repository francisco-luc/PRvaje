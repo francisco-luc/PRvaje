{
  "cells": [
    {
      "cell_type": "markdown",
      "metadata": {
        "tags": [
          "sl"
        ]
      },
      "source": [
        "## Priprava podatkov, osnovne statistike in vizualizacija\n",
        "\n",
        "Podatkovno rudarjenje, naloga, `<VPI\u0160I DATUM ODDAJE>`  \n",
        "**`<VPI\u0160I Ime in priimek>`**"
      ]
    },
    {
      "cell_type": "markdown",
      "metadata": {
        "tags": [
          "en"
        ]
      },
      "source": [
        "## Data preparation, basic statistics and visualization\n",
        "\n",
        "Data mining, assignment, `<INSERT DATE>`  \n",
        "**`<INSERT Name and surname>`**"
      ]
    },
    {
      "cell_type": "markdown",
      "metadata": {
        "tags": [
          "sl"
        ]
      },
      "source": [
        "Neizogiben del vsakega projekta na podro\u010dju podatkovnega rudarjenja je iskanje,\n",
        "urejanje in priprava podatkov. V tej nalogi boste spoznali primer podatkovne\n",
        "zbirke in uporabili postopke za pretvorbo podatkov v ustrezno obliko ter pregled in\n",
        "prikaz osnovnih statistik."
      ]
    },
    {
      "cell_type": "markdown",
      "metadata": {
        "tags": [
          "en"
        ]
      },
      "source": [
        "An inevitable part of every project in the field of data mining is searching for,\n",
        "editing and preparing data. In this task, you will get acquainted with a dataset and use procedures for converting data into the appropriate format and do\n",
        "overview and display of basic statistics."
      ]
    },
    {
      "cell_type": "markdown",
      "metadata": {
        "tags": [
          "sl"
        ]
      },
      "source": [
        "### Podatki\n",
        "\n",
        "V nalogi boste pregledali in pripravili podatke gledanosti Hollywoodskih filmov\n",
        "zbirke [MovieLens](https://grouplens.org/datasets/movielens/) v obdobju **1995-2016**.\n",
        "\n",
        "Iste podatke boste uporabili v vseh nalogah, zato jih dodobra spoznajte. Gre za podatkovno zbirko za\n",
        "vrednotenje priporo\u010dilnih sistemov, ki vsebuje gledalce ter njihove ocene za posamezni film na lestvici 1 do 5. \n",
        "Poleg osnovne matrike uporabnikov in ocen vsebuje \u0161e dodatne podatke o filmih (npr. \u017eanr, datum, oznake,\n",
        "igralci).\n",
        "\n",
        "Podatki so v mapi `./podatki/ml-latest-small`. Podatkovna zbirka vsebuje naslednje datoteke:\n",
        "\n",
        "* ratings.csv: podatki o uporabnikih in ocenah,\n",
        "* movies.csv: podatki o \u017eanrih filmov,\n",
        "* cast.csv: podatki o igralcih,\n",
        "* tags.csv: podatki o oznakah (ang. \\emph{tags}),\n",
        "* links.csv: povezave na sorodne podatkovne zbirke.\n",
        "\n",
        "\n",
        "Pred pri\u010detkom re\u0161evanja naloge si dobro oglejte podatke in datoteko **README.txt**. Podrobnosti o zbirki lahko preberete na [spletni strani](http://files.grouplens.org/datasets/movielens/ml-latest-small-README.html).\n",
        "\n",
        "Pripravite metode za nalaganje podatkov v ustrezne podatkovne strukture. Te vam bodo pri\u0161le\n",
        "prav tudi pri nadaljnjih nalogah.\n",
        "Bodite pozorni na velikost podatkov."
      ]
    },
    {
      "cell_type": "markdown",
      "metadata": {
        "tags": [
          "en"
        ]
      },
      "source": [
        "### Data\n",
        "\n",
        "In the task you will review and prepare Hollywood movie ratings from\n",
        "the [MovieLens](https://grouplens.org/datasets/movielens/) collection from the period **1995-2016**.\n",
        "\n",
        "The same data is used in all assignments, so you should get to know the data well. This is a database for\n",
        "evaluating recommendations systems that include viewers and their ratings on a scale of 1 to 5.\n",
        "In addition to the basic user and rating matrix, it includes also movie information (e.g., genre, date, tags, players).\n",
        "\n",
        "The dataset is in folder `./podatki/ml-latest-small`. The database contains the following files:\n",
        "\n",
        "* ratings.csv: user data and ratings,\n",
        "* movies.csv: movie genre information,\n",
        "* cast.csv: player information,\n",
        "* tags.csv: tag information (\\emph{tags}),\n",
        "* links.csv: links to related databases.\n",
        "\n",
        "Before starting to solve the task, take a good look at the data and read the **README.txt** file. You can learn about the details on the [website](http://files.grouplens.org/datasets/movielens/ml-latest-small-README.html).\n",
        "\n",
        "Prepare methods for loading data into the appropriate data structures. They will come in handy\n",
        "also for further tasks.\n",
        "Pay attention to the size of the data."
      ]
    },
    {
      "cell_type": "markdown",
      "metadata": {
        "tags": [
          "sl"
        ]
      },
      "source": [
        "Zapi\u0161ite kodo za branje datotek in pripravo ustreznih matrik (in drugih struktur) podatkov, ki jih boste uporabi pri odgovarjanju na spodnja vpra\u0161anja.\n",
        "\n",
        "Kodo lahko razdelite v ve\u010d celic."
      ]
    },
    {
      "cell_type": "markdown",
      "metadata": {
        "tags": [
          "en"
        ]
      },
      "source": [
        "Write down the code to read the files and prepare the appropriate matrices (and other structures) of the data that you will use to answer the questions below.\n",
        "\n",
        "You can split the code into multiple cells."
      ]
    },
    {
      "cell_type": "code",
      "execution_count": null,
      "metadata": {},
      "outputs": [],
      "source": []
    },
    {
      "cell_type": "markdown",
      "metadata": {
        "tags": [
          "sl"
        ]
      },
      "source": [
        "### Vpra\u0161anja\n",
        "\n",
        "Glavni namen podatkovnega rudarjenja je *odkrivanje znanj iz podatkov*,\n",
        "torej odgovarjanje na vpra\u0161anja z uporabo ra\u010dunskih postopkov.\n",
        "\n",
        "Z uporabo principov, ki ste jih spoznali na vajah in predavanjih, odgovorite na\n",
        "spodnja vpra\u0161anja. Pri vsakem vpra\u0161anju dobro premislite, na kak\u0161en na\u010din boste\n",
        "najbolje podali, prikazali oz. utemeljili odgovor. Bistven del so odgovori na\n",
        "vpra\u0161anja in ne implementacija va\u0161e re\u0161itve."
      ]
    },
    {
      "cell_type": "markdown",
      "metadata": {
        "tags": [
          "en"
        ]
      },
      "source": [
        "### Questions\n",
        "\n",
        "The main purpose of data mining is *knowledge discovery from data*,\n",
        "i.e., answering questions using computational approaches.\n",
        "\n",
        "By using the principles you have learned on the exercises and lectures, answer\n",
        "the questions below. For each question, think carefully about the way you will\n",
        "best give, show or justify the answer. The essential part is the answers to\n",
        "questions rather than the implemention of your solution."
      ]
    },
    {
      "cell_type": "markdown",
      "metadata": {
        "tags": [
          "sl"
        ]
      },
      "source": [
        "#### 1. vpra\u0161anje (15%):\n",
        "Kateri filmi so v povpre\u010dju najbolje ocenjeni?  Pripravite seznam\n",
        "filmov ter njihovih povpre\u010dnih ocen in izpi\u0161ite 10 filmov z vrha seznama.\n",
        "Opazite pri takem ocenjevanju kak\u0161no te\u017eavo? Kako bi jo lahko re\u0161ili? Kak\u0161ni so\n",
        "rezultati tedaj?\n",
        "\n",
        "Kodo lahko razdelite v ve\u010d celic."
      ]
    },
    {
      "cell_type": "markdown",
      "metadata": {
        "tags": [
          "en"
        ]
      },
      "source": [
        "#### Question 1 (15%):\n",
        "Which movies are the best on average? Prepare a list of\n",
        "movies and their average ratings and print 10 movies from the top of the list.\n",
        "Do you see any problems with such an assessment? How could you solve it? What are they?\n",
        "results of that?\n",
        "\n",
        "You can split the code into multiple cells."
      ]
    },
    {
      "cell_type": "code",
      "execution_count": null,
      "metadata": {},
      "outputs": [],
      "source": []
    },
    {
      "cell_type": "markdown",
      "metadata": {
        "tags": [
          "sl"
        ]
      },
      "source": [
        "Odgovor: **zapi\u0161ite utemeljitev odgovora**"
      ]
    },
    {
      "cell_type": "markdown",
      "metadata": {
        "tags": [
          "en"
        ]
      },
      "source": [
        "Answer: **write down the answer and explain it**"
      ]
    },
    {
      "cell_type": "markdown",
      "metadata": {
        "tags": [
          "sl"
        ]
      },
      "source": [
        "#### 2. vpra\u0161anje (15%):\n",
        "Posamezni film pripada enemu ali ve\u010d \u017eanrom. \n",
        "Koliko je vseh \u017eanrov? Prika\u017ei porazdelitev \u017eanrov z uporabo ustrezne\n",
        "vizualizacije.\n",
        "\n",
        "Kodo lahko razdelite v ve\u010d celic."
      ]
    },
    {
      "cell_type": "markdown",
      "metadata": {
        "tags": [
          "en"
        ]
      },
      "source": [
        "#### Question 2 (15%):\n",
        "Each film belongs to one or more genres.\n",
        "How many genres are there? Show the distribution of genres using appropriate\n",
        "visualization.\n",
        "\n",
        "You can split the code into multiple cells."
      ]
    },
    {
      "cell_type": "code",
      "execution_count": null,
      "metadata": {},
      "outputs": [],
      "source": []
    },
    {
      "cell_type": "markdown",
      "metadata": {
        "tags": [
          "sl"
        ]
      },
      "source": [
        "Odgovor: **zapi\u0161ite utemeljitev odgovora**"
      ]
    },
    {
      "cell_type": "markdown",
      "metadata": {
        "tags": [
          "en"
        ]
      },
      "source": [
        "Answer: **write down the answer and explain it**"
      ]
    },
    {
      "cell_type": "markdown",
      "metadata": {
        "tags": [
          "sl"
        ]
      },
      "source": [
        "#### 3. vpra\u0161anje (20%):\n",
        "\u0160tevilo ocen (ogledov) se za posamezni film razlikuje. Ali\n",
        "obstaja povezava med gledanostjo in povpre\u010dno oceno filma? Opi\u0161ite postopek, ki\n",
        "ste ga uporabili pri odgovarjanju na vpra\u0161anje.\n",
        "\n",
        "Kodo lahko razdelite v ve\u010d celic."
      ]
    },
    {
      "cell_type": "markdown",
      "metadata": {
        "tags": [
          "en"
        ]
      },
      "source": [
        "#### Question 3 (20%):\n",
        "The number of ratings is different for each film. But is there a relationship between the number of ratings and the average movie rating? Describe the procedure that you used to answer the question.\n",
        "\n",
        "You can split the code into multiple cells."
      ]
    },
    {
      "cell_type": "code",
      "execution_count": null,
      "metadata": {},
      "outputs": [],
      "source": []
    },
    {
      "cell_type": "markdown",
      "metadata": {
        "tags": [
          "sl"
        ]
      },
      "source": [
        "Odgovor: **zapi\u0161ite utemeljitev odgovora**"
      ]
    },
    {
      "cell_type": "markdown",
      "metadata": {
        "tags": [
          "en"
        ]
      },
      "source": [
        "Answer: **write down the answer and explain it**"
      ]
    },
    {
      "cell_type": "markdown",
      "metadata": {
        "tags": [
          "sl"
        ]
      },
      "source": [
        "#### 4. vpra\u0161anje (30%):\n",
        "Vsaka ocena je bila vne\u0161ena na dolo\u010den datum (stolpec\n",
        "*timestamp*).  Ali se popularnost posameznih filmov s \u010dasom spreminja?\n",
        "Problem re\u0161i tako, da za dani film ocene razporedi\u0161 po \u010dasu ter v vsaku \u010dasovni\n",
        "to\u010dki izra\u010duna\u0161 povpre\u010dje za zadnjih 30, 50, ali 100 ocen. Nari\u0161i graf, kako se\n",
        "ocena spreminja in ga prika\u017ei za dva zanimiva primera filmov.\n",
        "\n",
        "Kodo lahko razdelite v ve\u010d celic."
      ]
    },
    {
      "cell_type": "markdown",
      "metadata": {
        "tags": [
          "en"
        ]
      },
      "source": [
        "#### Question 4 (30%):\n",
        "Each rating was entered on a specific date (column\n",
        "*timestamp*). Does the popularity of individual films change over time?\n",
        "Solve the problem by allocating ratings for a given film by time and at any time\n",
        "point calculate the average for the last 30, 50, or 100 ratings. Draw a graph, how \n",
        "the rating changes and show it for two interesting examples of movies.\n",
        "\n",
        "You can split the code into multiple cells."
      ]
    },
    {
      "cell_type": "code",
      "execution_count": null,
      "metadata": {},
      "outputs": [],
      "source": []
    },
    {
      "cell_type": "markdown",
      "metadata": {
        "tags": [
          "sl"
        ]
      },
      "source": [
        "Odgovor: **zapi\u0161ite utemeljitev odgovora**"
      ]
    },
    {
      "cell_type": "markdown",
      "metadata": {
        "tags": [
          "en"
        ]
      },
      "source": [
        "Answer: **write down the answer and explain it**"
      ]
    },
    {
      "cell_type": "markdown",
      "metadata": {
        "tags": [
          "sl"
        ]
      },
      "source": [
        "#### 5. vpra\u0161anje (20%):\n",
        "Kako bi ocenili popularnost posameznih igralcev? Opi\u0161ite postopek\n",
        "ocenitve ter izpi\u0161ite 10 najbolj popularnih igralcev.\n",
        "\n",
        "Kodo lahko razdelite v ve\u010d celic."
      ]
    },
    {
      "cell_type": "markdown",
      "metadata": {
        "tags": [
          "en"
        ]
      },
      "source": [
        "#### Question 5 (20%):\n",
        "How would you rate the popularity of individual actors? Describe the procedure\n",
        " for evaluating and print the 10 most popular actors.\n",
        "\n",
        "You can split the code into multiple cells."
      ]
    },
    {
      "cell_type": "code",
      "execution_count": null,
      "metadata": {},
      "outputs": [],
      "source": []
    },
    {
      "cell_type": "markdown",
      "metadata": {
        "tags": [
          "sl"
        ]
      },
      "source": [
        "Odgovor: **zapi\u0161ite utemeljitev odgovora**"
      ]
    },
    {
      "cell_type": "markdown",
      "metadata": {
        "tags": [
          "en"
        ]
      },
      "source": [
        "Answer: **write down the answer and explain it**"
      ]
    },
    {
      "cell_type": "markdown",
      "metadata": {
        "tags": [
          "sl"
        ]
      },
      "source": [
        "#### Bonus vpra\u0161anje (5%):\n",
        "\n",
        "Kateri je tvoj najljub\u0161i film? Zakaj?"
      ]
    },
    {
      "cell_type": "markdown",
      "metadata": {
        "tags": [
          "en"
        ]
      },
      "source": [
        "#### Bonus question (5%):\n",
        "\n",
        "What's your favorite movie? Why?"
      ]
    },
    {
      "cell_type": "markdown",
      "metadata": {
        "tags": [
          "sl"
        ]
      },
      "source": [
        "Odgovor: **zapi\u0161ite utemeljitev odgovora**"
      ]
    },
    {
      "cell_type": "markdown",
      "metadata": {
        "tags": [
          "en"
        ]
      },
      "source": [
        "Answer: **write down the answer and explain it**"
      ]
    },
    {
      "cell_type": "markdown",
      "metadata": {},
      "source": []
    },
    {
      "cell_type": "markdown",
      "metadata": {
        "tags": [
          "sl"
        ]
      },
      "source": [
        "### Zapiski\n",
        "Za nalaganje podatkov lahko uporabite modul `csv`."
      ]
    },
    {
      "cell_type": "markdown",
      "metadata": {
        "tags": [
          "en"
        ]
      },
      "source": [
        "### Notes\n",
        "You can use the built-in `csv` module to load data."
      ]
    },
    {
      "cell_type": "code",
      "execution_count": 1,
      "metadata": {},
      "outputs": [],
      "source": [
        "from csv import DictReader\n",
        "\n",
        "reader = DictReader(open('podatki/ml-latest-small/ratings.csv', 'rt', encoding='utf-8'))\n",
        "for row in reader:\n",
        "    user = row[\"userId\"]\n",
        "    movie = row[\"movieId\"]\n",
        "    rating = row[\"rating\"]\n",
        "    timestamp = row[\"timestamp\"]"
      ]
    },
    {
      "cell_type": "markdown",
      "metadata": {
        "tags": [
          "sl"
        ]
      },
      "source": [
        "Podatki v zadnji vrstici datoteke:"
      ]
    },
    {
      "cell_type": "markdown",
      "metadata": {
        "tags": [
          "en"
        ]
      },
      "source": [
        "Data in the last line of the file:"
      ]
    },
    {
      "cell_type": "code",
      "execution_count": 2,
      "metadata": {},
      "outputs": [
        {
          "data": {
            "text/plain": [
              "('671', '6565', '3.5', '1074784724')"
            ]
          },
          "execution_count": 2,
          "metadata": {},
          "output_type": "execute_result"
        }
      ],
      "source": [
        "user, movie, rating, timestamp"
      ]
    },
    {
      "cell_type": "markdown",
      "metadata": {
        "tags": [
          "sl"
        ]
      },
      "source": [
        "Pretvorba \u010dasovnega formata (*Unix time*). Kode za oblikovanje so navedene v dokumentaciji modula [`datetime`](https://docs.python.org/3/library/datetime.html#strftime-and-strptime-behavior)."
      ]
    },
    {
      "cell_type": "markdown",
      "metadata": {
        "tags": [
          "en"
        ]
      },
      "source": [
        "Convert the time format (*Unix time*). Code about the structure is listed in documentation of the module  [`datetime`](https://docs.python.org/3/library/datetime.html#strftime-and-strptime-behavior)."
      ]
    },
    {
      "cell_type": "code",
      "execution_count": 3,
      "metadata": {},
      "outputs": [
        {
          "data": {
            "text/plain": [
              "'2008-08-05 02:56'"
            ]
          },
          "execution_count": 3,
          "metadata": {},
          "output_type": "execute_result"
        }
      ],
      "source": [
        "from datetime import datetime\n",
        "\n",
        "t = 1217897793 # Unix-time\n",
        "ts = datetime.fromtimestamp(t).strftime('%Y-%m-%d %H:%M')\n",
        "ts"
      ]
    }
  ],
  "metadata": {
    "kernelspec": {
      "display_name": "Python 3",
      "language": "python",
      "name": "python3"
    },
    "language_info": {
      "codemirror_mode": {
        "name": "ipython",
        "version": 3
      },
      "file_extension": ".py",
      "mimetype": "text/x-python",
      "name": "python",
      "nbconvert_exporter": "python",
      "pygments_lexer": "ipython3",
      "version": "3.6.9"
    },
    "latex_envs": {
      "LaTeX_envs_menu_present": true,
      "autocomplete": true,
      "bibliofile": "biblio.bib",
      "cite_by": "apalike",
      "current_citInitial": 1,
      "eqLabelWithNumbers": true,
      "eqNumInitial": 1,
      "hotkeys": {
        "equation": "Ctrl-E",
        "itemize": "Ctrl-I"
      },
      "labels_anchors": false,
      "latex_user_defs": false,
      "report_style_numbering": false,
      "user_envs_cfg": false
    },
    "nbTranslate": {
      "displayLangs": [
        "sl"
      ],
      "hotkey": "alt-t",
      "langInMainMenu": true,
      "sourceLang": "sl",
      "targetLang": "en",
      "useGoogleTranslate": true
    }
  },
  "nbformat": 4,
  "nbformat_minor": 2
}