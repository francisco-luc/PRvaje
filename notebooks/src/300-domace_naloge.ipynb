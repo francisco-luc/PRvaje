{
  "cells": [
    {
      "cell_type": "markdown",
      "metadata": {},
      "source": [
        "# Priprava in oddaja doma\u010dih nalog"
      ]
    },
    {
      "cell_type": "markdown",
      "metadata": {},
      "source": [
        "Na [spletni u\u010dilnici predmeta](https://ucilnica.fri.uni-lj.si/course/view.php?id=37) boste dobili povezavo do GitHub Classroom."
      ]
    },
    {
      "cell_type": "markdown",
      "metadata": {},
      "source": [
        "<img src=\"slike/dn_1.png\" width=600/>"
      ]
    },
    {
      "cell_type": "markdown",
      "metadata": {},
      "source": [
        "Po kliku na **Accept this assignment** se bo za\u010del usvtarjati va\u0161 repozitorij za doma\u010do nalogo."
      ]
    },
    {
      "cell_type": "markdown",
      "metadata": {},
      "source": [
        "<img src=\"slike/dn_2.png\" width=600/>"
      ]
    },
    {
      "cell_type": "markdown",
      "metadata": {},
      "source": [
        "\u010cez nekaj trenutkov boste lahko na GitHubu videli svoj repozitorij z za\u010detno kodo za doma\u010do nalogo."
      ]
    },
    {
      "cell_type": "markdown",
      "metadata": {},
      "source": [
        "<img src=\"slike/dn_3.png\" width=600/>"
      ]
    },
    {
      "cell_type": "markdown",
      "metadata": {},
      "source": [
        "V naslednjem koraku bomo repozitorij prenesli na ra\u010dunalnik. To lahko storimo z ukazom `git clone <url-repozitorija>`.\n",
        "\n",
        "Namig: \u010de uporabimo samo `git clone <url-repozitorija>` se bo ustvarila mapa z istim imenom, kot repozitorij. \u010ce \u017eelimo dolo\u010diti drugo ime, to lahko storimo z `git clone <url-repozitorija> <ime mape>`"
      ]
    },
    {
      "cell_type": "markdown",
      "metadata": {},
      "source": [
        "<img src=\"slike/dn_4.png\" width=600/>"
      ]
    },
    {
      "cell_type": "markdown",
      "metadata": {},
      "source": [
        "Za\u017eenite `jupyter notebook` in za\u010dnite re\u0161evati doma\u010do nalogo. Pri tem ne pozabit vpisati va\u0161ega imena in datuma oddaje.\n",
        "\n",
        "Ko boste kon\u010dali z re\u0161evanjem, preden objavite zadnjo verzijo na GitHub, obvezno ponovno za\u017eenite notebook in po\u017eenite vse celice. Tako bodo celice s kodo o\u0161tevil\u010dene od 1 naprej in boste lahko preverili, da je vse v pravem vrstnem redu."
      ]
    },
    {
      "cell_type": "markdown",
      "metadata": {},
      "source": [
        "<img src=\"slike/dn_5.png\"/>"
      ]
    },
    {
      "cell_type": "markdown",
      "metadata": {},
      "source": [
        "Na koncu je potrebno \u0161e poslati nalogo nazaj na Github. To lahko storite z naslednjim zaporedjem ukazov:\n",
        "\n",
        "`git add <ime_datoteke>`\n",
        "\n",
        "`git commit -m \"sporo\u010dilo\"`\n",
        "\n",
        "`git push`"
      ]
    }
  ],
  "metadata": {
    "kernelspec": {
      "display_name": "Python 3",
      "language": "python",
      "name": "python3"
    },
    "language_info": {
      "codemirror_mode": {
        "name": "ipython",
        "version": 3
      },
      "file_extension": ".py",
      "mimetype": "text/x-python",
      "name": "python",
      "nbconvert_exporter": "python",
      "pygments_lexer": "ipython3",
      "version": "3.7.3"
    },
    "nbTranslate": {
      "displayLangs": [
        "sl"
      ],
      "hotkey": "alt-t",
      "langInMainMenu": true,
      "sourceLang": "sl",
      "targetLang": "en",
      "useGoogleTranslate": true
    }
  },
  "nbformat": 4,
  "nbformat_minor": 2
}