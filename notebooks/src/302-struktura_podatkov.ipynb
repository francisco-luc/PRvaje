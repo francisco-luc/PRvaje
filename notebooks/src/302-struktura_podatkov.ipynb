{
  "cells": [
    {
      "cell_type": "markdown",
      "metadata": {
        "tags": [
          "sl"
        ]
      },
      "source": [
        "## Iskanje strukture v podatkih\n",
        "\n",
        "Podatkovno rudarjenje, naloga, `<VPI\u0160I DATUM ODDAJE>`  \n",
        "**`<VPI\u0160I Ime in priimek>`**"
      ]
    },
    {
      "cell_type": "markdown",
      "metadata": {
        "tags": [
          "en"
        ]
      },
      "source": [
        "## Search for structure in data\n",
        "\n",
        "Data mining, assignment, `<INSERT DATE>`  \n",
        "**`<INSERT Name and surname>`**"
      ]
    },
    {
      "cell_type": "markdown",
      "metadata": {
        "tags": [
          "sl"
        ]
      },
      "source": [
        "Z modeliranjem sku\u0161amo poiskati strukturo v podatkih. Z metodami nenadzorovanga modeliranja sku\u0161amo poiskati skupine podobnih podatkov oz. skupine primerov.\n",
        "\n",
        "V nalogi boste uporabili modeliranje verjetnostnih porazdelitev za iskanje osamelcev ter metode za iskanje skupin podobnih primerov (gru\u010denje)."
      ]
    },
    {
      "cell_type": "markdown",
      "metadata": {
        "tags": [
          "en"
        ]
      },
      "source": [
        "By modeling, we try to find structure in the data. Using unsupervised modeling methods, we try to find groups of similar data or cases.\n",
        "\n",
        "In this assignment you will use modeling of probability distributions to search for outliers and methods for finding groups of similar cases (clustering)."
      ]
    },
    {
      "cell_type": "markdown",
      "metadata": {
        "tags": [
          "sl"
        ]
      },
      "source": [
        "### Podatki\n",
        "\n",
        "Opis podatkovne zbirke MovieLens ostaja enak prvi nalogi."
      ]
    },
    {
      "cell_type": "markdown",
      "metadata": {
        "tags": [
          "en"
        ]
      },
      "source": [
        "### Data\n",
        "\n",
        "The description of the MovieLens database remains the same as for the first assignment."
      ]
    },
    {
      "cell_type": "markdown",
      "metadata": {
        "tags": [
          "sl"
        ]
      },
      "source": [
        "### Vpra\u0161anja\n",
        "\n",
        "Z uporabo principov, ki ste jih spoznali na vajah in predavanjih, odgovorite na\n",
        "spodnja vpra\u0161anja. Pri vsakem vpra\u0161anju dobro premislite, na kak\u0161en na\u010din boste\n",
        "najbolje podali, prikazali oz. utemeljili odgovor. Bistven del so odgovori na\n",
        "vpra\u0161anja in ne toliko implementacija va\u0161e re\u0161itve."
      ]
    },
    {
      "cell_type": "markdown",
      "metadata": {
        "tags": [
          "en"
        ]
      },
      "source": [
        "### Questions\n",
        "\n",
        "By using the principles you have learned on exercises and lectures, answer the \n",
        "following questions. For each question, think carefully about the best way to give, show or justify the answer. The essential part is the answers to the\n",
        "questions and not so much the implementation of your solution."
      ]
    },
    {
      "cell_type": "markdown",
      "metadata": {
        "tags": [
          "sl"
        ]
      },
      "source": [
        "#### 1. Iskanje osamelcev (50%) \n",
        "O ocenah katerih filmov so si uporabniki najmanj enotni? Povedano druga\u010de, za katere filme so pripadajo\u010de ocene najbolj razpr\u0161ene?\n",
        "\n",
        "Formuliraj problem kot modeliranje verjetnostne porazdelitve. Premisli o naslednjih vpra\u0161anjih, naredi ustrezne poizkuse in odgovori."
      ]
    },
    {
      "cell_type": "markdown",
      "metadata": {
        "tags": [
          "en"
        ]
      },
      "source": [
        "#### 1. Finding outliers (50%)\n",
        "About the ratings of which movies are the users the least unified? In other words, for which films are the corresponding scores the most dispersed?\n",
        "\n",
        "Formulate the problem as modeling the probability distribution. Think about the following questions, make the appropriate experiments and answers."
      ]
    },
    {
      "cell_type": "code",
      "execution_count": 1,
      "metadata": {},
      "outputs": [],
      "source": [
        "# kodo lahko razdelite v ve\u010d celic"
      ]
    },
    {
      "cell_type": "markdown",
      "metadata": {
        "tags": [
          "sl"
        ]
      },
      "source": [
        "Odgovor: **odgovor lahko zapi\u0161ete v ve\u010d celic**"
      ]
    },
    {
      "cell_type": "markdown",
      "metadata": {
        "tags": [
          "en"
        ]
      },
      "source": [
        "Answer: **You can write the answer in multiple cells**"
      ]
    },
    {
      "cell_type": "markdown",
      "metadata": {
        "tags": [
          "sl"
        ]
      },
      "source": [
        "#### 1.1. vpra\u0161anje:\n",
        "\n",
        "Katera je ustrezna naklju\u010dna spremenljivka (koli\u010dina) v podatkih, ki odgovarja na vpra\u0161anje?        "
      ]
    },
    {
      "cell_type": "markdown",
      "metadata": {
        "tags": [
          "en"
        ]
      },
      "source": [
        "#### 1.1. question:\n",
        "\n",
        "What is the appropriate random variable (quantity) in the data that answers the question?"
      ]
    },
    {
      "cell_type": "code",
      "execution_count": 2,
      "metadata": {},
      "outputs": [],
      "source": [
        "# kodo lahko razdelite v ve\u010d celic"
      ]
    },
    {
      "cell_type": "markdown",
      "metadata": {
        "tags": [
          "sl"
        ]
      },
      "source": [
        "Odgovor: **odgovor lahko zapi\u0161ete v ve\u010d celic**"
      ]
    },
    {
      "cell_type": "markdown",
      "metadata": {
        "tags": [
          "en"
        ]
      },
      "source": [
        "Answer: **You can write the answer in multiple cells**"
      ]
    },
    {
      "cell_type": "markdown",
      "metadata": {
        "tags": [
          "sl"
        ]
      },
      "source": [
        "#### 1.2. vpra\u0161anje:\n",
        "Nari\u0161i njeno porazdelitev, npr., s pomo\u010djo histograma."
      ]
    },
    {
      "cell_type": "markdown",
      "metadata": {
        "tags": [
          "en"
        ]
      },
      "source": [
        "#### 1.2. question:\n",
        "Draw its distribution, for example, using a histogram."
      ]
    },
    {
      "cell_type": "code",
      "execution_count": 3,
      "metadata": {},
      "outputs": [],
      "source": [
        "# kodo lahko razdelite v ve\u010d celic"
      ]
    },
    {
      "cell_type": "markdown",
      "metadata": {
        "tags": [
          "sl"
        ]
      },
      "source": [
        "Odgovor: **odgovor lahko zapi\u0161ete v ve\u010d celic**"
      ]
    },
    {
      "cell_type": "markdown",
      "metadata": {
        "tags": [
          "en"
        ]
      },
      "source": [
        "Answer: **You can write the answer in multiple cells**"
      ]
    },
    {
      "cell_type": "markdown",
      "metadata": {
        "tags": [
          "sl"
        ]
      },
      "source": [
        "#### 1.3. vpra\u0161anje:\n",
        "\n",
        "Ali porazdelitev spominja na kak\u0161no znano porazdelitev? Ali je porazdelitev morda normalna ali katera druga? "
      ]
    },
    {
      "cell_type": "markdown",
      "metadata": {
        "tags": [
          "en"
        ]
      },
      "source": [
        "#### 1.3. question:\n",
        "\n",
        "Does the distribution remind you of a known distribution? Is the distribution possibly normal or some other?"
      ]
    },
    {
      "cell_type": "code",
      "execution_count": 4,
      "metadata": {},
      "outputs": [],
      "source": [
        "# kodo lahko razdelite v ve\u010d celic"
      ]
    },
    {
      "cell_type": "markdown",
      "metadata": {
        "tags": [
          "sl"
        ]
      },
      "source": [
        "Odgovor: **odgovor lahko zapi\u0161ete v ve\u010d celic**"
      ]
    },
    {
      "cell_type": "markdown",
      "metadata": {
        "tags": [
          "en"
        ]
      },
      "source": [
        "Answer: **You can write the answer in multiple cells**"
      ]
    },
    {
      "cell_type": "markdown",
      "metadata": {
        "tags": [
          "sl"
        ]
      },
      "source": [
        "#### 1.4. vpra\u0161anje:\n",
        "\n",
        "Oceni parametre te porazdelitve s pomo\u010djo postopkov, ki smo jih spoznali na vajah.  Izmed porazdelitev, ki smo jih spoznali na vajah, izberi tisto, ki se podatkom najbolj prilega.        "
      ]
    },
    {
      "cell_type": "markdown",
      "metadata": {
        "tags": [
          "en"
        ]
      },
      "source": [
        "#### 1.4. question:\n",
        "\n",
        "Assess the parameters of this distribution by means of the procedures we have learned at the exercises. From the distributions we have learned at the exercises, choose the one that best fits the data."
      ]
    },
    {
      "cell_type": "code",
      "execution_count": 5,
      "metadata": {},
      "outputs": [],
      "source": [
        "# kodo lahko razdelite v ve\u010d celic"
      ]
    },
    {
      "cell_type": "markdown",
      "metadata": {
        "tags": [
          "sl"
        ]
      },
      "source": [
        "Odgovor: **odgovor lahko zapi\u0161ete v ve\u010d celic**"
      ]
    },
    {
      "cell_type": "markdown",
      "metadata": {
        "tags": [
          "en"
        ]
      },
      "source": [
        "Answer: **You can write the answer in multiple cells**"
      ]
    },
    {
      "cell_type": "markdown",
      "metadata": {
        "tags": [
          "sl"
        ]
      },
      "source": [
        "#### 1.5. vpra\u0161anje:\n",
        "\n",
        "Izpi\u0161i filme z vrednostjo naklju\u010dne spremenljivke, ki spada v zgornjih 5% statisti\u010dno zna\u010dilnih primerov. "
      ]
    },
    {
      "cell_type": "markdown",
      "metadata": {
        "tags": [
          "en"
        ]
      },
      "source": [
        "#### 1.5. question:\n",
        "\n",
        "Print movies with the value of a random variable that falls in the top 5% of the statistically significant cases."
      ]
    },
    {
      "cell_type": "code",
      "execution_count": 6,
      "metadata": {},
      "outputs": [],
      "source": [
        "# kodo lahko razdelite v ve\u010d celic"
      ]
    },
    {
      "cell_type": "markdown",
      "metadata": {
        "tags": [
          "sl"
        ]
      },
      "source": [
        "Odgovor: **odgovor lahko zapi\u0161ete v ve\u010d celic**"
      ]
    },
    {
      "cell_type": "markdown",
      "metadata": {
        "tags": [
          "en"
        ]
      },
      "source": [
        "Answer: **You can write the answer in multiple cells**"
      ]
    },
    {
      "cell_type": "markdown",
      "metadata": {
        "tags": [
          "sl"
        ]
      },
      "source": [
        "#### 2. Gru\u010denje filmov (50%)\n",
        "\n",
        "Priporo\u010dilni sistemi pogosto odkrivajo skupine predmetov (v na\u0161em primeru filme), za katere velja visoka medsebojna podobnost.\n",
        "\n",
        "Poi\u0161\u010dite 100 najbolj gledanih filmov. Ali med njimi obstajajo skupine?\n",
        "Uporabite ustrezen algoritem za gru\u010denje. Na film lahko gledamo kot vektor, kjer je  \n",
        "\u0161tevilo komponent enako \u0161tevilu uporabnikov. \n",
        "\n",
        "Vektorji vsebujejo tudi *neznane vrednosti*.\n",
        "Primer vektorjev za deset filmov prikazuje spodnja tabela.\n",
        "\n",
        "Algoritme gru\u010denja lahko izvajamo v izvornem prostoru (koordinatni sistem filmi-uporabniki) ali pa filme primerjamo z merami podobnosti, ki smo jih spoznali na vajah. \n",
        "Premisli, kateri na\u010din je primernej\u0161i glede na obliko podatkov."
      ]
    },
    {
      "cell_type": "markdown",
      "metadata": {
        "tags": [
          "en"
        ]
      },
      "source": [
        "#### 2. Clustering films (50%)\n",
        "\n",
        "Recommendation systems often detect groups of objects (in our example films), which are of high similarity.\n",
        "\n",
        "Find the 100 most watched movies. Are there groups among them?\n",
        "Use the appropriate clustering algorithm. We can watch the film as a vector where the\n",
        "number of components is equal to the number of users.\n",
        "\n",
        "Vectors also contain *unknown values*.\n",
        "An example of the vectors for ten films is shown in the table below.\n",
        "\n",
        "Clustering algorithms can be performed in the original space (the coordinate system films-users), or we can compare the films with the similarities we have learned on the exercises.\n",
        "Think about which method is more appropriate in terms of the data format."
      ]
    },
    {
      "cell_type": "markdown",
      "metadata": {},
      "source": [
        "| x          |Movie                                      | $u_0$ |$u_1$ | $u_2$ | $\\cdots$ |\n",
        "|------------|-------------------------------------------|:-----:|:----:|:------|:--------:|\n",
        "|$\\vec{x_0}$ | Fight Club (1999)                         | ?     | ?    | ?     | $\\cdots$ |\n",
        "|$\\vec{x_1}$ | Twelve Monkeys (a.k.a. 12 Monkeys) (1995) | ?     | ?    | 2.5   | $\\cdots$ |\n",
        "|$\\vec{x_2}$ | Independence Day (a.k.a. ID4) (1996)      | ?     | ?    | ?     | $\\cdots$ |\n",
        "|$\\vec{x_3}$ | Dances with  Wolves (1990)                | 4.0   | ?    | ?     | $\\cdots$ |\n",
        "|$\\vec{x_4}$ | Fargo (1996)                              | ?     | ?    | ?     | $\\cdots$ |\n",
        "|$\\vec{x_5}$ | Speed (1994)                              | ?     | ?    | ?     | $\\cdots$ |\n",
        "|$\\vec{x_6}$ | Apollo 13 (1995)                          | ?     | 2.0  | ?     | $\\cdots$ |\n",
        "|$\\vec{x_7}$ | Seven (a.k.a. Se7en) (1995)               | ?     | ?    | ?     | $\\cdots$ |\n",
        "|$\\vec{x_8}$ | Sixth Sense, The (1999)                   | 3.0   | ?    | 4.0   | $\\cdots$ |\n",
        "|$\\vec{x_9}$ | Aladdin (1992)                            | ?     | ?    | ?     | $\\cdots$ |\n",
        "|$\\cdots$    | $\\cdots$                                  | $\\cdots$ | $\\cdots$  | $\\cdots$ | $\\cdots$ |"
      ]
    },
    {
      "cell_type": "markdown",
      "metadata": {
        "tags": [
          "sl"
        ]
      },
      "source": [
        "Pri tem odgovori na naslednja vpra\u0161anja."
      ]
    },
    {
      "cell_type": "markdown",
      "metadata": {
        "tags": [
          "en"
        ]
      },
      "source": [
        "In doing so, answer the following questions."
      ]
    },
    {
      "cell_type": "markdown",
      "metadata": {
        "tags": [
          "sl"
        ]
      },
      "source": [
        "#### 2.1. vpra\u0161anje:\n",
        "\n",
        "Utemelji izbiro algoritma in mere podobnosti."
      ]
    },
    {
      "cell_type": "markdown",
      "metadata": {
        "tags": [
          "en"
        ]
      },
      "source": [
        "#### 2.1. question:\n",
        "\n",
        "Justify the choice of algorithm and similarity measures."
      ]
    },
    {
      "cell_type": "code",
      "execution_count": 7,
      "metadata": {},
      "outputs": [],
      "source": [
        "# kodo lahko razdelite v ve\u010d celic"
      ]
    },
    {
      "cell_type": "markdown",
      "metadata": {
        "tags": [
          "sl"
        ]
      },
      "source": [
        "Odgovor: **odgovor lahko zapi\u0161ete v ve\u010d celic**"
      ]
    },
    {
      "cell_type": "markdown",
      "metadata": {
        "tags": [
          "en"
        ]
      },
      "source": [
        "Answer: **You can write the answer in multiple cells**"
      ]
    },
    {
      "cell_type": "markdown",
      "metadata": {
        "tags": [
          "sl"
        ]
      },
      "source": [
        "#### 2.2. vpra\u0161anje:\n",
        "\n",
        "Koliko skupin filmov je med izbranimi? Ali poznamo kvantitativne ocene za razli\u010dne mo\u017enosti razvr\u0161\u010danja v skupine?"
      ]
    },
    {
      "cell_type": "markdown",
      "metadata": {
        "tags": [
          "en"
        ]
      },
      "source": [
        "#### 2.2. question:\n",
        "\n",
        "How many groups of films are among the selected? Do we know the quantitative estimates for the various grouping options?"
      ]
    },
    {
      "cell_type": "code",
      "execution_count": 8,
      "metadata": {},
      "outputs": [],
      "source": [
        "# kodo lahko razdelite v ve\u010d celic"
      ]
    },
    {
      "cell_type": "markdown",
      "metadata": {
        "tags": [
          "sl"
        ]
      },
      "source": [
        "Odgovor: **odgovor lahko zapi\u0161ete v ve\u010d celic**"
      ]
    },
    {
      "cell_type": "markdown",
      "metadata": {
        "tags": [
          "en"
        ]
      },
      "source": [
        "Answer: **You can write the answer in multiple cells**"
      ]
    },
    {
      "cell_type": "markdown",
      "metadata": {
        "tags": [
          "sl"
        ]
      },
      "source": [
        "#### 2.3. vpra\u0161anje:\n",
        "\n",
        "Prika\u017ei rezultate z uporabo ustrezne vizualizacije."
      ]
    },
    {
      "cell_type": "markdown",
      "metadata": {
        "tags": [
          "en"
        ]
      },
      "source": [
        "#### 2.3. question:\n",
        "\n",
        "Display results using an appropriate visualization."
      ]
    },
    {
      "cell_type": "code",
      "execution_count": 9,
      "metadata": {},
      "outputs": [],
      "source": [
        "# kodo lahko razdelite v ve\u010d celic"
      ]
    },
    {
      "cell_type": "markdown",
      "metadata": {
        "tags": [
          "sl"
        ]
      },
      "source": [
        "Odgovor: **odgovor lahko zapi\u0161ete v ve\u010d celic**"
      ]
    },
    {
      "cell_type": "markdown",
      "metadata": {
        "tags": [
          "en"
        ]
      },
      "source": [
        "Answer: **You can write the answer in multiple cells**"
      ]
    },
    {
      "cell_type": "markdown",
      "metadata": {
        "tags": [
          "sl"
        ]
      },
      "source": [
        "#### 2.4. vpra\u0161anje:\n",
        "\n",
        "Komentiraj smiselnost dobljenih rezultatov."
      ]
    },
    {
      "cell_type": "markdown",
      "metadata": {
        "tags": [
          "en"
        ]
      },
      "source": [
        "#### 2.4. question:\n",
        "\n",
        "Comment on the validity of the results obtained."
      ]
    },
    {
      "cell_type": "code",
      "execution_count": 10,
      "metadata": {},
      "outputs": [],
      "source": [
        "# kodo lahko razdelite v ve\u010d celic"
      ]
    },
    {
      "cell_type": "markdown",
      "metadata": {
        "tags": [
          "sl"
        ]
      },
      "source": [
        "Odgovor: **odgovor lahko zapi\u0161ete v ve\u010d celic**"
      ]
    },
    {
      "cell_type": "markdown",
      "metadata": {
        "tags": [
          "en"
        ]
      },
      "source": [
        "Answer: **You can write the answer in multiple cells**"
      ]
    }
  ],
  "metadata": {
    "kernelspec": {
      "display_name": "Python 3",
      "language": "python",
      "name": "python3"
    },
    "language_info": {
      "codemirror_mode": {
        "name": "ipython",
        "version": 3
      },
      "file_extension": ".py",
      "mimetype": "text/x-python",
      "name": "python",
      "nbconvert_exporter": "python",
      "pygments_lexer": "ipython3",
      "version": "3.6.9"
    },
    "latex_envs": {
      "LaTeX_envs_menu_present": true,
      "autocomplete": true,
      "bibliofile": "biblio.bib",
      "cite_by": "apalike",
      "current_citInitial": 1,
      "eqLabelWithNumbers": true,
      "eqNumInitial": 1,
      "hotkeys": {
        "equation": "Ctrl-E",
        "itemize": "Ctrl-I"
      },
      "labels_anchors": false,
      "latex_user_defs": false,
      "report_style_numbering": false,
      "user_envs_cfg": false
    },
    "nbTranslate": {
      "displayLangs": [
        "sl"
      ],
      "hotkey": "alt-t",
      "langInMainMenu": true,
      "sourceLang": "sl",
      "targetLang": "en",
      "useGoogleTranslate": true
    }
  },
  "nbformat": 4,
  "nbformat_minor": 2
}