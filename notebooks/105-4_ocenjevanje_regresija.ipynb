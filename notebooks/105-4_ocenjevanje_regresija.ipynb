{
 "cells": [
  {
   "cell_type": "markdown",
   "metadata": {
    "lang": "sl"
   },
   "source": [
    "## Uporaba Orange za regresijo"
   ]
  },
  {
   "cell_type": "markdown",
   "metadata": {
    "lang": "en"
   },
   "source": [
    "## Using Orange for regression"
   ]
  },
  {
   "cell_type": "code",
   "execution_count": 1,
   "metadata": {},
   "outputs": [],
   "source": [
    "import Orange\n",
    "import random\n",
    "import numpy as np\n",
    "np.random.seed(42)"
   ]
  },
  {
   "cell_type": "markdown",
   "metadata": {
    "lang": "sl"
   },
   "source": [
    "Regresija v Orange-u je zelo podobna klasifikaciji. Oba zahtevata označene podatke. Tako kot v klasifikaciji se regresija izvaja z učnimi algoritmi in regresijskimi modeli (regresorji). Regresijski učni algoritmi so objekti, ki sprejemajo podatke in vrnejo regresorje. Regresijski modeli dobijo podatkke za napovedovanje vrednosti zveznega razreda:"
   ]
  },
  {
   "cell_type": "markdown",
   "metadata": {
    "lang": "en"
   },
   "source": [
    "Regression in Orange is very similar to classification. Both require labeled data. Just like in classification, regression is implemented with learners and regression models (regressors). Regression learners are objects that accept data and return regressors. Regression models are given data items to predict the value of continuous class:"
   ]
  },
  {
   "cell_type": "code",
   "execution_count": 2,
   "metadata": {},
   "outputs": [
    {
     "name": "stdout",
     "output_type": "stream",
     "text": [
      "predicted, observed:\n",
      "30.0, 24.0\n",
      "25.0, 21.6\n",
      "30.6, 34.7\n"
     ]
    },
    {
     "name": "stderr",
     "output_type": "stream",
     "text": [
      "F:\\Anaconda\\envs\\PR\\lib\\site-packages\\xgboost\\compat.py:36: FutureWarning: pandas.Int64Index is deprecated and will be removed from pandas in a future version. Use pandas.Index with the appropriate dtype instead.\n",
      "  from pandas import MultiIndex, Int64Index\n"
     ]
    }
   ],
   "source": [
    "data = Orange.data.Table(\"housing\")\n",
    "learner = Orange.regression.LinearRegressionLearner()\n",
    "model = learner(data)\n",
    "\n",
    "print(\"predicted, observed:\")\n",
    "for d in data[:3]:\n",
    "    print(\"%.1f, %.1f\" % (model(d), d.get_class()))"
   ]
  },
  {
   "cell_type": "markdown",
   "metadata": {
    "lang": "sl"
   },
   "source": [
    "Začnimo z regresijskimi drevesi. Spodaj je primer skripta, ki gradi drevo iz podatkov o cenah stanovanja in natisne drevo v obliki besedila:"
   ]
  },
  {
   "cell_type": "markdown",
   "metadata": {
    "lang": "en"
   },
   "source": [
    "Let us start with regression trees. Below is an example script that builds the tree from data on housing prices and prints out the tree in textual form:"
   ]
  },
  {
   "cell_type": "code",
   "execution_count": 3,
   "metadata": {},
   "outputs": [
    {
     "name": "stdout",
     "output_type": "stream",
     "text": [
      "\n",
      "RM (22.5: 506.0)\n",
      ": <=6.941\n",
      "   LSTAT (19.9: 430.0)\n",
      "   : <=14.40 --> (23.3: 255.0)\n",
      "   : >14.40 --> (15.0: 175.0)\n",
      ": >6.941\n",
      "   RM (37.2: 76.0)\n",
      "   : <=7.437 --> (32.1: 46.0)\n",
      "   : >7.437 --> (45.1: 30.0)\n"
     ]
    }
   ],
   "source": [
    "tree_learner = Orange.regression.SimpleTreeLearner(max_depth=2)\n",
    "tree = tree_learner(data)\n",
    "print(tree.to_string())"
   ]
  },
  {
   "cell_type": "markdown",
   "metadata": {
    "lang": "sl"
   },
   "source": [
    "Sledi inicializacija nekaterih drugih regresorjev in njihovo napovedovanje prvih pet podatkovnih podatkov v podatkovnem nizu cen stanovanj:"
   ]
  },
  {
   "cell_type": "markdown",
   "metadata": {
    "lang": "en"
   },
   "source": [
    "Following is initialization of few other regressors and their prediction of the first five data instances in housing price dataset:"
   ]
  },
  {
   "cell_type": "code",
   "execution_count": 4,
   "metadata": {},
   "outputs": [
    {
     "name": "stdout",
     "output_type": "stream",
     "text": [
      "y    linear regression    rf ridge regression\n",
      "22.2   19.3  20.7  19.5\n",
      "31.6   33.2  31.8  33.2\n",
      "21.7   20.9  19.1  21.0\n",
      "10.2   16.9  12.1  16.8\n",
      "14.0   13.6  14.4  13.5\n"
     ]
    }
   ],
   "source": [
    "random.seed(42)\n",
    "test = Orange.data.Table.from_list(data.domain, random.sample(data, 5))\n",
    "train = Orange.data.Table.from_list(data.domain, [d for d in data if d not in test])\n",
    "\n",
    "lin = Orange.regression.linear.LinearRegressionLearner()\n",
    "rf = Orange.regression.random_forest.RandomForestRegressionLearner()\n",
    "rf.name = \"rf\"\n",
    "ridge = Orange.regression.RidgeRegressionLearner()\n",
    "\n",
    "learners = [lin, rf, ridge]\n",
    "regressors = [learner(train) for learner in learners]\n",
    "\n",
    "print(\"y   \", \" \".join(\"%5s\" % l.name for l in regressors))\n",
    "\n",
    "for d in test:\n",
    "    print((\"{:<5}\" + \" {:5.1f}\"*len(regressors)).format(\n",
    "        d.get_class(),\n",
    "        *(r(d) for r in regressors)))"
   ]
  },
  {
   "cell_type": "markdown",
   "metadata": {
    "lang": "sl"
   },
   "source": [
    "Zdi se, da cene stanovanj niso tako težko predvidljive."
   ]
  },
  {
   "cell_type": "markdown",
   "metadata": {
    "lang": "en"
   },
   "source": [
    "Looks like the housing prices are not that hard to predict."
   ]
  },
  {
   "cell_type": "markdown",
   "metadata": {
    "lang": "sl"
   },
   "source": [
    "##### Vprašanje 5-4-1\n",
    "Z razsevnim diagramom prikaži, kako se vrednost napovedi spreminja glede na dejansko vrednost. Komentiraj sliko."
   ]
  },
  {
   "cell_type": "markdown",
   "metadata": {
    "lang": "en"
   },
   "source": [
    "##### Question 5-4-1\n",
    "Show the way the predicted value changes according to the actual value with a scatter plot. Comment this picture."
   ]
  },
  {
   "cell_type": "code",
   "execution_count": null,
   "metadata": {},
   "outputs": [],
   "source": []
  },
  {
   "cell_type": "markdown",
   "metadata": {
    "lang": "sl"
   },
   "source": [
    "##### Vprašanje 5-4-2\n",
    "Prikaži, kako se napaka napovedi spreminja glede na dejansko vrednost. Komentiraj sliko."
   ]
  },
  {
   "cell_type": "markdown",
   "metadata": {
    "lang": "en"
   },
   "source": [
    "##### Question 5-4-2\n",
    "Show how the prediction error changes according to the actual value. Comment this picture."
   ]
  },
  {
   "cell_type": "code",
   "execution_count": null,
   "metadata": {},
   "outputs": [],
   "source": []
  },
  {
   "cell_type": "markdown",
   "metadata": {
    "lang": "sl"
   },
   "source": [
    "### Prečno preverjanje"
   ]
  },
  {
   "cell_type": "markdown",
   "metadata": {
    "lang": "en"
   },
   "source": [
    "### Cross-Validation"
   ]
  },
  {
   "cell_type": "markdown",
   "metadata": {
    "lang": "sl"
   },
   "source": [
    "Ocenjevanje in metode točkovanja so na voljo pri Orange.evaluation:"
   ]
  },
  {
   "cell_type": "markdown",
   "metadata": {
    "lang": "en"
   },
   "source": [
    "Evaluation and scoring methods are available at Orange.evaluation:"
   ]
  },
  {
   "cell_type": "code",
   "execution_count": 5,
   "metadata": {},
   "outputs": [
    {
     "name": "stdout",
     "output_type": "stream",
     "text": [
      "Learner  RMSE  R2\n",
      "linear regression 4.88  0.72\n",
      "rf       4.04  0.81\n",
      "ridge regression 4.91  0.71\n",
      "mean     9.20 -0.00\n"
     ]
    }
   ],
   "source": [
    "random.seed(42)\n",
    "lin = Orange.regression.linear.LinearRegressionLearner()\n",
    "rf = Orange.regression.random_forest.RandomForestRegressionLearner()\n",
    "rf.name = \"rf\"\n",
    "ridge = Orange.regression.RidgeRegressionLearner()\n",
    "mean = Orange.regression.MeanLearner()\n",
    "\n",
    "learners = [lin, rf, ridge, mean]\n",
    "\n",
    "cv = Orange.evaluation.CrossValidation(k=5)\n",
    "res = cv(data, learners)\n",
    "rmse = Orange.evaluation.RMSE(res)\n",
    "r2 = Orange.evaluation.R2(res)\n",
    "\n",
    "print(\"Learner  RMSE  R2\")\n",
    "for i in range(len(learners)):\n",
    "    print(\"{:8s} {:.2f} {:5.2f}\".format(learners[i].name, rmse[i], r2[i]))"
   ]
  },
  {
   "cell_type": "markdown",
   "metadata": {
    "lang": "sl"
   },
   "source": [
    "Ni veliko razlike. Vsaka regresijska metoda ima nabor parametrov. Uporaljali smo jih s privzetimi parametri in nastavljanje parametrov bi pomagalo. Na seznam naših regresorjev smo vključili MeanLearner; ta regresor preprosto napoveduje srednjo vrednost iz učne množice in se uporabljajo kot izhodišče."
   ]
  },
  {
   "cell_type": "markdown",
   "metadata": {
    "lang": "en"
   },
   "source": [
    "Not much difference here. Each regression method has a set of parameters. We have been running them with default parameters, and parameter fitting would help. Also, we have included MeanLearner in the list of our regressors; this regressor simply predicts the mean value from the training set, and is used as a baseline."
   ]
  }
 ],
 "metadata": {
  "kernelspec": {
   "display_name": "Python 3 (ipykernel)",
   "language": "python",
   "name": "python3"
  },
  "language_info": {
   "codemirror_mode": {
    "name": "ipython",
    "version": 3
   },
   "file_extension": ".py",
   "mimetype": "text/x-python",
   "name": "python",
   "nbconvert_exporter": "python",
   "pygments_lexer": "ipython3",
   "version": "3.9.12"
  },
  "latex_envs": {
   "LaTeX_envs_menu_present": true,
   "autoclose": false,
   "autocomplete": true,
   "bibliofile": "biblio.bib",
   "cite_by": "apalike",
   "current_citInitial": 1,
   "eqLabelWithNumbers": true,
   "eqNumInitial": 1,
   "hotkeys": {
    "equation": "Ctrl-E",
    "itemize": "Ctrl-I"
   },
   "labels_anchors": false,
   "latex_user_defs": false,
   "report_style_numbering": false,
   "user_envs_cfg": false
  },
  "nbTranslate": {
   "displayLangs": [
    "sl"
   ],
   "hotkey": "alt-t",
   "langInMainMenu": true,
   "sourceLang": "sl",
   "targetLang": "en",
   "useGoogleTranslate": true
  }
 },
 "nbformat": 4,
 "nbformat_minor": 2
}
